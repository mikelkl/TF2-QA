{
 "cells": [
  {
   "cell_type": "markdown",
   "metadata": {},
   "source": [
    "# Answer Type"
   ]
  },
  {
   "cell_type": "code",
   "execution_count": 1,
   "metadata": {
    "ExecuteTime": {
     "end_time": "2019-12-16T14:31:47.753160Z",
     "start_time": "2019-12-16T14:31:46.846623Z"
    }
   },
   "outputs": [],
   "source": [
    "import sys\n",
    "sys.path.append(\"../torch_based\")\n",
    "\n",
    "import json\n",
    "import torch\n",
    "\n",
    "from tqdm import tqdm\n",
    "from sklearn.metrics import confusion_matrix, classification_report\n",
    "from utils import plot_confusion_matrix"
   ]
  },
  {
   "cell_type": "code",
   "execution_count": 2,
   "metadata": {
    "ExecuteTime": {
     "end_time": "2019-12-16T14:31:47.813882Z",
     "start_time": "2019-12-16T14:31:47.754751Z"
    }
   },
   "outputs": [],
   "source": [
    "with open(\"../output/predictions_ccj.json\", \"r\") as f:\n",
    "    predictions = json.load(f)"
   ]
  },
  {
   "cell_type": "code",
   "execution_count": 3,
   "metadata": {
    "ExecuteTime": {
     "end_time": "2019-12-16T14:31:59.431628Z",
     "start_time": "2019-12-16T14:31:47.815705Z"
    }
   },
   "outputs": [],
   "source": [
    "_, examples = torch.load(\"../input/tensorflow2-question-answering/cached_dev_pytorch_model.bin_512\")"
   ]
  },
  {
   "cell_type": "code",
   "execution_count": 4,
   "metadata": {
    "ExecuteTime": {
     "end_time": "2019-12-16T14:31:59.441867Z",
     "start_time": "2019-12-16T14:31:59.436289Z"
    }
   },
   "outputs": [],
   "source": [
    "idx2label = [\"unknown\", \"yes\", \"no\", \"short\", \"long\"]"
   ]
  },
  {
   "cell_type": "code",
   "execution_count": 5,
   "metadata": {
    "ExecuteTime": {
     "end_time": "2019-12-16T14:31:59.463358Z",
     "start_time": "2019-12-16T14:31:59.445075Z"
    }
   },
   "outputs": [
    {
     "name": "stderr",
     "output_type": "stream",
     "text": [
      "Creating examples dict: 100%|██████████| 1600/1600 [00:00<00:00, 569056.76it/s]\n"
     ]
    }
   ],
   "source": [
    "id2label = {}\n",
    "for e in tqdm(examples, desc=\"Creating examples dict\"):\n",
    "    id2label[e.example_id] = int(e.answer.type)"
   ]
  },
  {
   "cell_type": "code",
   "execution_count": 6,
   "metadata": {
    "ExecuteTime": {
     "end_time": "2019-12-16T14:31:59.477334Z",
     "start_time": "2019-12-16T14:31:59.465584Z"
    }
   },
   "outputs": [
    {
     "name": "stderr",
     "output_type": "stream",
     "text": [
      "Creating y_true and y_pred: 100%|██████████| 1600/1600 [00:00<00:00, 484435.60it/s]\n"
     ]
    }
   ],
   "source": [
    "y_true_list, y_pred_list = [], []\n",
    "for pred in tqdm(predictions['predictions'], desc=\"Creating y_true and y_pred\"):\n",
    "    y_pred_list.append(pred['answer_type'])\n",
    "    \n",
    "    y_true = id2label[pred[\"example_id\"]]\n",
    "    y_true_list.append(y_true)\n"
   ]
  },
  {
   "cell_type": "markdown",
   "metadata": {
    "ExecuteTime": {
     "end_time": "2019-12-16T14:30:40.361301Z",
     "start_time": "2019-12-16T14:30:40.357258Z"
    }
   },
   "source": [
    "## Visualize result"
   ]
  },
  {
   "cell_type": "code",
   "execution_count": 8,
   "metadata": {
    "ExecuteTime": {
     "end_time": "2019-12-16T14:34:20.114942Z",
     "start_time": "2019-12-16T14:34:19.832004Z"
    }
   },
   "outputs": [
    {
     "name": "stdout",
     "output_type": "stream",
     "text": [
      "Confusion matrix, without normalization\n"
     ]
    },
    {
     "data": {
      "image/png": "[encoded data removed]",
      "text/plain": [
       "<Figure size 720x504 with 2 Axes>"
      ]
     },
     "metadata": {
      "needs_background": "light"
     },
     "output_type": "display_data"
    }
   ],
   "source": [
    "cm = confusion_matrix(y_true_list,y_pred_list)\n",
    "plot_confusion_matrix(cm, classes=idx2label, normalize=False)"
   ]
  },
  {
   "cell_type": "code",
   "execution_count": 9,
   "metadata": {
    "ExecuteTime": {
     "end_time": "2019-12-16T14:34:22.553940Z",
     "start_time": "2019-12-16T14:34:22.539974Z"
    }
   },
   "outputs": [
    {
     "name": "stdout",
     "output_type": "stream",
     "text": [
      "              precision    recall  f1-score   support\n",
      "\n",
      "     unknown       0.82      0.33      0.47       481\n",
      "         yes       0.52      0.84      0.64        19\n",
      "          no       0.14      0.17      0.15        12\n",
      "       short       0.72      0.86      0.78       873\n",
      "        long       0.29      0.43      0.34       215\n",
      "\n",
      "    accuracy                           0.63      1600\n",
      "   macro avg       0.50      0.52      0.48      1600\n",
      "weighted avg       0.69      0.63      0.62      1600\n",
      "\n"
     ]
    }
   ],
   "source": [
    "print(classification_report(y_true_list, y_pred_list, target_names=idx2label))"
   ]
  },
  {
   "cell_type": "code",
   "execution_count": null,
   "metadata": {},
   "outputs": [],
   "source": []
  }
 ],
 "metadata": {
  "kernelspec": {
   "display_name": "Python [conda env:.conda-tf2]",
   "language": "python",
   "name": "conda-env-.conda-tf2-py"
  },
  "language_info": {
   "codemirror_mode": {
    "name": "ipython",
    "version": 3
   },
   "file_extension": ".py",
   "mimetype": "text/x-python",
   "name": "python",
   "nbconvert_exporter": "python",
   "pygments_lexer": "ipython3",
   "version": "3.7.5"
  },
  "toc": {
   "base_numbering": 1,
   "nav_menu": {},
   "number_sections": true,
   "sideBar": true,
   "skip_h1_title": false,
   "title_cell": "Table of Contents",
   "title_sidebar": "Contents",
   "toc_cell": false,
   "toc_position": {
    "height": "calc(100% - 180px)",
    "left": "10px",
    "top": "150px",
    "width": "165px"
   },
   "toc_section_display": true,
   "toc_window_display": true
  }
 },
 "nbformat": 4,
 "nbformat_minor": 2
}
