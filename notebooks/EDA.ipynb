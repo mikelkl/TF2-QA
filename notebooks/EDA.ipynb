{
 "cells": [
  {
   "cell_type": "markdown",
   "metadata": {
    "ExecuteTime": {
     "end_time": "2019-11-01T08:53:55.208788Z",
     "start_time": "2019-11-01T08:53:55.205524Z"
    }
   },
   "source": [
    "# Abstract\n",
    "- Data Understanding\n",
    "    - A long answer would be a longer section of text that answers the question - several sentences or a paragraph.\n",
    "    - A short answer might be a sentence or phrase, or even in some cases a YES/NO.\n",
    "    - The short answers are always contained within / a subset of one of the plausible long answers. \n",
    "    - A given article can (and very often will) allow for both long and short answers, depending on the question.\n",
    "- Data Statistics\n",
    "    - training data contains 307,373 examples. 152,148 have a long answer and 110,724 have a short answer.\n",
    "- Number of Long Answer Candidate\n",
    "    - Some of data for long answers are swamped with a lot of candidates (7946 in maximum!)\n",
    "    - n_long_candidates_train is long-tail distribution\n",
    "    - n_long_candidates_train and n_long_candidates_test have similar distribution\n",
    "- Short answer\n",
    "    - Short answers can be sets of spans in the document (106,926), or yes or no (3,798).\n",
    "    - 63.47% 'NO ANSWERS' in short answer labels\n",
    "    - one question can have multiple short answers within same long anwser\n",
    "    - when yes-no answer is not 'None' (i.e. yes or no), short answer always be empty\n",
    "- Yes-no Answer\n",
    "    - significant class imbalance in yes-no answer labels.\n",
    "- Long Answer\n",
    "    - long answer can either be 0（denoted by 'start_token': -1）or 1 \n",
    "    - long answer must be selected from long_answer_candidates\n",
    "    - there are a considerable number of 'NO ANSWERS' in long answer labels, not only in yes-no labels\n",
    "    - If the start token is -1, the corresponding end token is also -1\n",
    "    - when the start token and/or the end token are -1, yes-no answer is 'NONE'\n",
    "    - yes-no answer 'NONE' does not always mean that the start token and/or the end token are -1\n",
    "- Text Word Counts\n",
    "    - Words counts of question text range in [0, 30]\n",
    "    - Words counts of d document text range in [0, 120000]"
   ]
  },
  {
   "cell_type": "markdown",
   "metadata": {},
   "source": [
    "# Preparation"
   ]
  },
  {
   "cell_type": "code",
   "execution_count": 215,
   "metadata": {
    "ExecuteTime": {
     "end_time": "2019-11-02T11:04:30.472412Z",
     "start_time": "2019-11-02T11:04:30.466569Z"
    },
    "_cell_guid": "b1076dfc-b9ad-4769-8c92-a6c4dae69d19",
    "_uuid": "8f2839f25d086af736a60e9eeb907d3b93b6e0e5"
   },
   "outputs": [],
   "source": [
    "import numpy as np\n",
    "import pandas as pd\n",
    "import json\n",
    "import matplotlib.pyplot as plt\n",
    "import seaborn as sns\n",
    "\n",
    "from tqdm import tqdm\n",
    "from IPython.core.display import HTML"
   ]
  },
  {
   "cell_type": "code",
   "execution_count": 56,
   "metadata": {
    "ExecuteTime": {
     "end_time": "2019-10-31T07:22:51.339853Z",
     "start_time": "2019-10-31T07:22:51.336758Z"
    }
   },
   "outputs": [],
   "source": [
    "DIR = '../input/tensorflow2-question-answering/'\n",
    "PATH_TRAIN = DIR + 'simplified-nq-train.jsonl'\n",
    "PATH_TEST = DIR + 'simplified-nq-test.jsonl'"
   ]
  },
  {
   "cell_type": "markdown",
   "metadata": {},
   "source": [
    "## Number of samples in train & test dataset"
   ]
  },
  {
   "cell_type": "code",
   "execution_count": 57,
   "metadata": {
    "ExecuteTime": {
     "end_time": "2019-10-31T07:22:55.494303Z",
     "start_time": "2019-10-31T07:22:51.343478Z"
    }
   },
   "outputs": [
    {
     "name": "stdout",
     "output_type": "stream",
     "text": [
      "307373 ../input/tensorflow2-question-answering/simplified-nq-train.jsonl\n",
      "345 ../input/tensorflow2-question-answering/simplified-nq-test.jsonl\n"
     ]
    }
   ],
   "source": [
    "!wc -l '../input/tensorflow2-question-answering/simplified-nq-train.jsonl'\n",
    "!wc -l '../input/tensorflow2-question-answering/simplified-nq-test.jsonl'"
   ]
  },
  {
   "cell_type": "markdown",
   "metadata": {},
   "source": [
    "# Load .jsonl file iteratively"
   ]
  },
  {
   "cell_type": "markdown",
   "metadata": {},
   "source": [
    "As we know, one of the most common way to convert .jsonl file into pd.DataFrame is  `pd.read_json(FILENAME, orient='records', lines=True)`:"
   ]
  },
  {
   "cell_type": "code",
   "execution_count": 58,
   "metadata": {
    "ExecuteTime": {
     "end_time": "2019-10-31T07:22:55.680158Z",
     "start_time": "2019-10-31T07:22:55.497777Z"
    }
   },
   "outputs": [
    {
     "data": {
      "text/html": [
       "<div>\n",
       "<style scoped>\n",
       "    .dataframe tbody tr th:only-of-type {\n",
       "        vertical-align: middle;\n",
       "    }\n",
       "\n",
       "    .dataframe tbody tr th {\n",
       "        vertical-align: top;\n",
       "    }\n",
       "\n",
       "    .dataframe thead th {\n",
       "        text-align: right;\n",
       "    }\n",
       "</style>\n",
       "<table border=\"1\" class=\"dataframe\">\n",
       "  <thead>\n",
       "    <tr style=\"text-align: right;\">\n",
       "      <th></th>\n",
       "      <th>example_id</th>\n",
       "      <th>question_text</th>\n",
       "      <th>document_text</th>\n",
       "      <th>long_answer_candidates</th>\n",
       "    </tr>\n",
       "  </thead>\n",
       "  <tbody>\n",
       "    <tr>\n",
       "      <td>0</td>\n",
       "      <td>-1220107454853145600</td>\n",
       "      <td>who is the south african high commissioner in ...</td>\n",
       "      <td>High Commission of South Africa , London - wik...</td>\n",
       "      <td>[{'end_token': 136, 'start_token': 18, 'top_le...</td>\n",
       "    </tr>\n",
       "    <tr>\n",
       "      <td>1</td>\n",
       "      <td>8777415633185303552</td>\n",
       "      <td>the office episode when they sing to michael</td>\n",
       "      <td>Michael 's Last Dundies - wikipedia &lt;H1&gt; Micha...</td>\n",
       "      <td>[{'end_token': 190, 'start_token': 23, 'top_le...</td>\n",
       "    </tr>\n",
       "    <tr>\n",
       "      <td>2</td>\n",
       "      <td>4640548859154538496</td>\n",
       "      <td>what is the main idea of the cross of gold speech</td>\n",
       "      <td>Cross of gold speech - wikipedia &lt;H1&gt; Cross of...</td>\n",
       "      <td>[{'end_token': 165, 'start_token': 12, 'top_le...</td>\n",
       "    </tr>\n",
       "    <tr>\n",
       "      <td>3</td>\n",
       "      <td>-5316095317154496512</td>\n",
       "      <td>when was i want to sing in opera written</td>\n",
       "      <td>Wilkie Bard - wikipedia &lt;H1&gt; Wilkie Bard &lt;/H1&gt;...</td>\n",
       "      <td>[{'end_token': 105, 'start_token': 8, 'top_lev...</td>\n",
       "    </tr>\n",
       "    <tr>\n",
       "      <td>4</td>\n",
       "      <td>-8752372642178983936</td>\n",
       "      <td>who does the voices in ice age collision course</td>\n",
       "      <td>Ice Age : Collision Course - Wikipedia &lt;H1&gt; Ic...</td>\n",
       "      <td>[{'end_token': 287, 'start_token': 16, 'top_le...</td>\n",
       "    </tr>\n",
       "  </tbody>\n",
       "</table>\n",
       "</div>"
      ],
      "text/plain": [
       "            example_id                                      question_text  \\\n",
       "0 -1220107454853145600  who is the south african high commissioner in ...   \n",
       "1  8777415633185303552       the office episode when they sing to michael   \n",
       "2  4640548859154538496  what is the main idea of the cross of gold speech   \n",
       "3 -5316095317154496512           when was i want to sing in opera written   \n",
       "4 -8752372642178983936    who does the voices in ice age collision course   \n",
       "\n",
       "                                       document_text  \\\n",
       "0  High Commission of South Africa , London - wik...   \n",
       "1  Michael 's Last Dundies - wikipedia <H1> Micha...   \n",
       "2  Cross of gold speech - wikipedia <H1> Cross of...   \n",
       "3  Wilkie Bard - wikipedia <H1> Wilkie Bard </H1>...   \n",
       "4  Ice Age : Collision Course - Wikipedia <H1> Ic...   \n",
       "\n",
       "                              long_answer_candidates  \n",
       "0  [{'end_token': 136, 'start_token': 18, 'top_le...  \n",
       "1  [{'end_token': 190, 'start_token': 23, 'top_le...  \n",
       "2  [{'end_token': 165, 'start_token': 12, 'top_le...  \n",
       "3  [{'end_token': 105, 'start_token': 8, 'top_lev...  \n",
       "4  [{'end_token': 287, 'start_token': 16, 'top_le...  "
      ]
     },
     "execution_count": 58,
     "metadata": {},
     "output_type": "execute_result"
    }
   ],
   "source": [
    "df_test = pd.read_json(PATH_TEST, orient='records', lines=True)\n",
    "df_test.head()"
   ]
  },
  {
   "cell_type": "markdown",
   "metadata": {},
   "source": [
    "However, since we have a **HUGE train dataset** for this competition, Kaggle Notebook RAM cannot afford this method.\n",
    "Instead, we probablly have to load the train dataset iteratively:"
   ]
  },
  {
   "cell_type": "code",
   "execution_count": 153,
   "metadata": {
    "ExecuteTime": {
     "end_time": "2019-10-31T17:48:38.391637Z",
     "start_time": "2019-10-31T17:47:04.112834Z"
    }
   },
   "outputs": [
    {
     "data": {
      "application/vnd.jupyter.widget-view+json": {
       "model_id": "0489485ff1f24f17bfea70bb2d120280",
       "version_major": 2,
       "version_minor": 0
      },
      "text/plain": [
       "HBox(children=(IntProgress(value=1, bar_style='info', max=1), HTML(value='')))"
      ]
     },
     "metadata": {},
     "output_type": "display_data"
    },
    {
     "name": "stdout",
     "output_type": "stream",
     "text": [
      "\n"
     ]
    }
   ],
   "source": [
    "json_train = []\n",
    "\n",
    "with open(PATH_TRAIN, 'rt') as f:\n",
    "    for i in tqdm(f):\n",
    "        json_train.append(json.loads(i.strip()))"
   ]
  },
  {
   "cell_type": "code",
   "execution_count": 154,
   "metadata": {
    "ExecuteTime": {
     "end_time": "2019-10-31T17:48:46.715088Z",
     "start_time": "2019-10-31T17:48:45.307980Z"
    }
   },
   "outputs": [
    {
     "data": {
      "text/html": [
       "<div>\n",
       "<style scoped>\n",
       "    .dataframe tbody tr th:only-of-type {\n",
       "        vertical-align: middle;\n",
       "    }\n",
       "\n",
       "    .dataframe tbody tr th {\n",
       "        vertical-align: top;\n",
       "    }\n",
       "\n",
       "    .dataframe thead th {\n",
       "        text-align: right;\n",
       "    }\n",
       "</style>\n",
       "<table border=\"1\" class=\"dataframe\">\n",
       "  <thead>\n",
       "    <tr style=\"text-align: right;\">\n",
       "      <th></th>\n",
       "      <th>document_text</th>\n",
       "      <th>long_answer_candidates</th>\n",
       "      <th>question_text</th>\n",
       "      <th>annotations</th>\n",
       "      <th>document_url</th>\n",
       "      <th>example_id</th>\n",
       "    </tr>\n",
       "  </thead>\n",
       "  <tbody>\n",
       "    <tr>\n",
       "      <td>0</td>\n",
       "      <td>Email marketing - Wikipedia &lt;H1&gt; Email marketi...</td>\n",
       "      <td>[{'start_token': 14, 'top_level': True, 'end_t...</td>\n",
       "      <td>which is the most common use of opt-in e-mail ...</td>\n",
       "      <td>[{'yes_no_answer': 'NONE', 'long_answer': {'st...</td>\n",
       "      <td>https://en.wikipedia.org//w/index.php?title=Em...</td>\n",
       "      <td>5655493461695504401</td>\n",
       "    </tr>\n",
       "    <tr>\n",
       "      <td>1</td>\n",
       "      <td>The Mother ( How I Met Your Mother ) - wikiped...</td>\n",
       "      <td>[{'start_token': 28, 'top_level': True, 'end_t...</td>\n",
       "      <td>how i.met your mother who is the mother</td>\n",
       "      <td>[{'yes_no_answer': 'NONE', 'long_answer': {'st...</td>\n",
       "      <td>https://en.wikipedia.org//w/index.php?title=Th...</td>\n",
       "      <td>5328212470870865242</td>\n",
       "    </tr>\n",
       "    <tr>\n",
       "      <td>2</td>\n",
       "      <td>Human fertilization - wikipedia &lt;H1&gt; Human fer...</td>\n",
       "      <td>[{'start_token': 14, 'top_level': True, 'end_t...</td>\n",
       "      <td>what type of fertilisation takes place in humans</td>\n",
       "      <td>[{'yes_no_answer': 'NONE', 'long_answer': {'st...</td>\n",
       "      <td>https://en.wikipedia.org//w/index.php?title=Hu...</td>\n",
       "      <td>4435104480114867852</td>\n",
       "    </tr>\n",
       "    <tr>\n",
       "      <td>3</td>\n",
       "      <td>List of National Football League career quarte...</td>\n",
       "      <td>[{'start_token': 28, 'top_level': True, 'end_t...</td>\n",
       "      <td>who had the most wins in the nfl</td>\n",
       "      <td>[{'yes_no_answer': 'NONE', 'long_answer': {'st...</td>\n",
       "      <td>https://en.wikipedia.org//w/index.php?title=Li...</td>\n",
       "      <td>5289242154789678439</td>\n",
       "    </tr>\n",
       "    <tr>\n",
       "      <td>4</td>\n",
       "      <td>Roanoke Colony - wikipedia &lt;H1&gt; Roanoke Colony...</td>\n",
       "      <td>[{'start_token': 32, 'top_level': True, 'end_t...</td>\n",
       "      <td>what happened to the lost settlement of roanoke</td>\n",
       "      <td>[{'yes_no_answer': 'NONE', 'long_answer': {'st...</td>\n",
       "      <td>https://en.wikipedia.org//w/index.php?title=Ro...</td>\n",
       "      <td>5489863933082811018</td>\n",
       "    </tr>\n",
       "  </tbody>\n",
       "</table>\n",
       "</div>"
      ],
      "text/plain": [
       "                                       document_text  \\\n",
       "0  Email marketing - Wikipedia <H1> Email marketi...   \n",
       "1  The Mother ( How I Met Your Mother ) - wikiped...   \n",
       "2  Human fertilization - wikipedia <H1> Human fer...   \n",
       "3  List of National Football League career quarte...   \n",
       "4  Roanoke Colony - wikipedia <H1> Roanoke Colony...   \n",
       "\n",
       "                              long_answer_candidates  \\\n",
       "0  [{'start_token': 14, 'top_level': True, 'end_t...   \n",
       "1  [{'start_token': 28, 'top_level': True, 'end_t...   \n",
       "2  [{'start_token': 14, 'top_level': True, 'end_t...   \n",
       "3  [{'start_token': 28, 'top_level': True, 'end_t...   \n",
       "4  [{'start_token': 32, 'top_level': True, 'end_t...   \n",
       "\n",
       "                                       question_text  \\\n",
       "0  which is the most common use of opt-in e-mail ...   \n",
       "1            how i.met your mother who is the mother   \n",
       "2   what type of fertilisation takes place in humans   \n",
       "3                   who had the most wins in the nfl   \n",
       "4    what happened to the lost settlement of roanoke   \n",
       "\n",
       "                                         annotations  \\\n",
       "0  [{'yes_no_answer': 'NONE', 'long_answer': {'st...   \n",
       "1  [{'yes_no_answer': 'NONE', 'long_answer': {'st...   \n",
       "2  [{'yes_no_answer': 'NONE', 'long_answer': {'st...   \n",
       "3  [{'yes_no_answer': 'NONE', 'long_answer': {'st...   \n",
       "4  [{'yes_no_answer': 'NONE', 'long_answer': {'st...   \n",
       "\n",
       "                                        document_url           example_id  \n",
       "0  https://en.wikipedia.org//w/index.php?title=Em...  5655493461695504401  \n",
       "1  https://en.wikipedia.org//w/index.php?title=Th...  5328212470870865242  \n",
       "2  https://en.wikipedia.org//w/index.php?title=Hu...  4435104480114867852  \n",
       "3  https://en.wikipedia.org//w/index.php?title=Li...  5289242154789678439  \n",
       "4  https://en.wikipedia.org//w/index.php?title=Ro...  5489863933082811018  "
      ]
     },
     "execution_count": 154,
     "metadata": {},
     "output_type": "execute_result"
    }
   ],
   "source": [
    "df_train = pd.DataFrame(json_train)\n",
    "df_train.head()"
   ]
  },
  {
   "cell_type": "code",
   "execution_count": 155,
   "metadata": {
    "ExecuteTime": {
     "end_time": "2019-10-31T17:48:51.522437Z",
     "start_time": "2019-10-31T17:48:51.510136Z"
    },
    "scrolled": true
   },
   "outputs": [
    {
     "data": {
      "text/plain": [
       "[{'start_token': 32, 'top_level': True, 'end_token': 88},\n",
       " {'start_token': 33, 'top_level': False, 'end_token': 87},\n",
       " {'start_token': 88, 'top_level': True, 'end_token': 249},\n",
       " {'start_token': 89, 'top_level': False, 'end_token': 95},\n",
       " {'start_token': 95, 'top_level': False, 'end_token': 102},\n",
       " {'start_token': 102, 'top_level': False, 'end_token': 120},\n",
       " {'start_token': 104, 'top_level': False, 'end_token': 118},\n",
       " {'start_token': 105, 'top_level': False, 'end_token': 117},\n",
       " {'start_token': 120, 'top_level': False, 'end_token': 153},\n",
       " {'start_token': 153, 'top_level': False, 'end_token': 160},\n",
       " {'start_token': 160, 'top_level': False, 'end_token': 170},\n",
       " {'start_token': 170, 'top_level': False, 'end_token': 186},\n",
       " {'start_token': 186, 'top_level': False, 'end_token': 199},\n",
       " {'start_token': 199, 'top_level': False, 'end_token': 213},\n",
       " {'start_token': 213, 'top_level': False, 'end_token': 218},\n",
       " {'start_token': 218, 'top_level': False, 'end_token': 228},\n",
       " {'start_token': 228, 'top_level': False, 'end_token': 248},\n",
       " {'start_token': 237, 'top_level': False, 'end_token': 246},\n",
       " {'start_token': 238, 'top_level': False, 'end_token': 245},\n",
       " {'start_token': 249, 'top_level': True, 'end_token': 316},\n",
       " {'start_token': 316, 'top_level': True, 'end_token': 365},\n",
       " {'start_token': 550, 'top_level': True, 'end_token': 624},\n",
       " {'start_token': 648, 'top_level': True, 'end_token': 694},\n",
       " {'start_token': 694, 'top_level': True, 'end_token': 755},\n",
       " {'start_token': 755, 'top_level': True, 'end_token': 853},\n",
       " {'start_token': 860, 'top_level': True, 'end_token': 957},\n",
       " {'start_token': 960, 'top_level': True, 'end_token': 1050},\n",
       " {'start_token': 1050, 'top_level': True, 'end_token': 1116},\n",
       " {'start_token': 1116, 'top_level': True, 'end_token': 1187},\n",
       " {'start_token': 1193, 'top_level': True, 'end_token': 1283},\n",
       " {'start_token': 1283, 'top_level': True, 'end_token': 1414},\n",
       " {'start_token': 1414, 'top_level': True, 'end_token': 1584},\n",
       " {'start_token': 1588, 'top_level': True, 'end_token': 1702},\n",
       " {'start_token': 1719, 'top_level': True, 'end_token': 1802},\n",
       " {'start_token': 1802, 'top_level': True, 'end_token': 1849},\n",
       " {'start_token': 1849, 'top_level': True, 'end_token': 1908},\n",
       " {'start_token': 1908, 'top_level': True, 'end_token': 2067},\n",
       " {'start_token': 2097, 'top_level': True, 'end_token': 2207},\n",
       " {'start_token': 2207, 'top_level': True, 'end_token': 2352},\n",
       " {'start_token': 2356, 'top_level': True, 'end_token': 2443},\n",
       " {'start_token': 2443, 'top_level': True, 'end_token': 2585},\n",
       " {'start_token': 2585, 'top_level': True, 'end_token': 2713},\n",
       " {'start_token': 2726, 'top_level': True, 'end_token': 2869},\n",
       " {'start_token': 2869, 'top_level': True, 'end_token': 2947},\n",
       " {'start_token': 2947, 'top_level': True, 'end_token': 3012},\n",
       " {'start_token': 3012, 'top_level': True, 'end_token': 3093},\n",
       " {'start_token': 3102, 'top_level': True, 'end_token': 3264},\n",
       " {'start_token': 3264, 'top_level': True, 'end_token': 3375},\n",
       " {'start_token': 3375, 'top_level': True, 'end_token': 3444},\n",
       " {'start_token': 3444, 'top_level': True, 'end_token': 3495},\n",
       " {'start_token': 3520, 'top_level': True, 'end_token': 3601},\n",
       " {'start_token': 3601, 'top_level': True, 'end_token': 3688},\n",
       " {'start_token': 3688, 'top_level': True, 'end_token': 3832},\n",
       " {'start_token': 3832, 'top_level': True, 'end_token': 3926},\n",
       " {'start_token': 3926, 'top_level': True, 'end_token': 3960},\n",
       " {'start_token': 3960, 'top_level': True, 'end_token': 4119},\n",
       " {'start_token': 4119, 'top_level': True, 'end_token': 4244},\n",
       " {'start_token': 4244, 'top_level': True, 'end_token': 4327},\n",
       " {'start_token': 4327, 'top_level': True, 'end_token': 4470},\n",
       " {'start_token': 4470, 'top_level': True, 'end_token': 4570},\n",
       " {'start_token': 4570, 'top_level': True, 'end_token': 4622},\n",
       " {'start_token': 4622, 'top_level': True, 'end_token': 4714},\n",
       " {'start_token': 4719, 'top_level': True, 'end_token': 4810},\n",
       " {'start_token': 4817, 'top_level': True, 'end_token': 4887},\n",
       " {'start_token': 4890, 'top_level': True, 'end_token': 5094},\n",
       " {'start_token': 5094, 'top_level': True, 'end_token': 5123},\n",
       " {'start_token': 5127, 'top_level': True, 'end_token': 5164},\n",
       " {'start_token': 5164, 'top_level': True, 'end_token': 5392},\n",
       " {'start_token': 5392, 'top_level': True, 'end_token': 5534},\n",
       " {'start_token': 5538, 'top_level': True, 'end_token': 5603},\n",
       " {'start_token': 5603, 'top_level': True, 'end_token': 5731},\n",
       " {'start_token': 5739, 'top_level': True, 'end_token': 5823},\n",
       " {'start_token': 5828, 'top_level': True, 'end_token': 5879},\n",
       " {'start_token': 5829, 'top_level': False, 'end_token': 5878},\n",
       " {'start_token': 5882, 'top_level': True, 'end_token': 6150},\n",
       " {'start_token': 5883, 'top_level': False, 'end_token': 5935},\n",
       " {'start_token': 5935, 'top_level': False, 'end_token': 5965},\n",
       " {'start_token': 5965, 'top_level': False, 'end_token': 5976},\n",
       " {'start_token': 5976, 'top_level': False, 'end_token': 5991},\n",
       " {'start_token': 5991, 'top_level': False, 'end_token': 6077},\n",
       " {'start_token': 6077, 'top_level': False, 'end_token': 6149},\n",
       " {'start_token': 6153, 'top_level': True, 'end_token': 6190},\n",
       " {'start_token': 6154, 'top_level': False, 'end_token': 6189},\n",
       " {'start_token': 6190, 'top_level': True, 'end_token': 6236},\n",
       " {'start_token': 6191, 'top_level': False, 'end_token': 6235},\n",
       " {'start_token': 6239, 'top_level': True, 'end_token': 6409},\n",
       " {'start_token': 6240, 'top_level': False, 'end_token': 6275},\n",
       " {'start_token': 6275, 'top_level': False, 'end_token': 6314},\n",
       " {'start_token': 6314, 'top_level': False, 'end_token': 6408},\n",
       " {'start_token': 6412, 'top_level': True, 'end_token': 6657},\n",
       " {'start_token': 6413, 'top_level': False, 'end_token': 6444},\n",
       " {'start_token': 6444, 'top_level': False, 'end_token': 6495},\n",
       " {'start_token': 6495, 'top_level': False, 'end_token': 6522},\n",
       " {'start_token': 6522, 'top_level': False, 'end_token': 6589},\n",
       " {'start_token': 6589, 'top_level': False, 'end_token': 6656},\n",
       " {'start_token': 6660, 'top_level': True, 'end_token': 6701},\n",
       " {'start_token': 6661, 'top_level': False, 'end_token': 6700}]"
      ]
     },
     "execution_count": 155,
     "metadata": {},
     "output_type": "execute_result"
    }
   ],
   "source": [
    "df_train.iloc[4].loc['long_answer_candidates']"
   ]
  },
  {
   "cell_type": "code",
   "execution_count": 243,
   "metadata": {
    "ExecuteTime": {
     "end_time": "2019-11-02T11:24:46.973990Z",
     "start_time": "2019-11-02T11:24:46.966187Z"
    }
   },
   "outputs": [
    {
     "data": {
      "text/plain": [
       "[{'yes_no_answer': 'NONE',\n",
       "  'long_answer': {'start_token': -1, 'candidate_index': -1, 'end_token': -1},\n",
       "  'short_answers': [],\n",
       "  'annotation_id': 9055562038158888262}]"
      ]
     },
     "execution_count": 243,
     "metadata": {},
     "output_type": "execute_result"
    }
   ],
   "source": [
    "df_train.iloc[9].loc['annotations']"
   ]
  },
  {
   "cell_type": "markdown",
   "metadata": {},
   "source": [
    "# Data Visualization"
   ]
  },
  {
   "cell_type": "markdown",
   "metadata": {},
   "source": [
    "## Obtain data"
   ]
  },
  {
   "cell_type": "markdown",
   "metadata": {},
   "source": [
    "We must be cautious that <span style=\"color: red\">**\"short answer\" for this competition corresponds to \"yes-no answer\" in the original dataset**.</span>  "
   ]
  },
  {
   "cell_type": "code",
   "execution_count": 216,
   "metadata": {
    "ExecuteTime": {
     "end_time": "2019-11-02T11:04:43.377080Z",
     "start_time": "2019-11-02T11:04:43.369797Z"
    }
   },
   "outputs": [],
   "source": [
    "N_TRAIN = 307373\n",
    "n_long_candidates_train = np.zeros(N_TRAIN)\n",
    "t_long_train = np.zeros((N_TRAIN,2))  # [start_token, end_token]\n",
    "t_yesno_train = []\n",
    "t_short_train = []"
   ]
  },
  {
   "cell_type": "code",
   "execution_count": 217,
   "metadata": {
    "ExecuteTime": {
     "end_time": "2019-11-02T11:06:27.126053Z",
     "start_time": "2019-11-02T11:05:10.502337Z"
    }
   },
   "outputs": [
    {
     "name": "stderr",
     "output_type": "stream",
     "text": [
      "100%|██████████| 307373/307373 [01:16<00:00, 4012.18it/s]\n"
     ]
    }
   ],
   "source": [
    "with open(PATH_TRAIN, 'rt') as f:\n",
    "    for i in tqdm(range(N_TRAIN)):\n",
    "        dic = json.loads(f.readline())\n",
    "        n_long_candidates_train[i] = len(dic['long_answer_candidates'])\n",
    "        t_long_train[i,0] = dic['annotations'][0]['long_answer']['start_token']\n",
    "        t_long_train[i,1] = dic['annotations'][0]['long_answer']['end_token']\n",
    "        t_yesno_train.append(dic['annotations'][0]['yes_no_answer'])\n",
    "        t_short_train.append(len(dic['annotations'][0]['short_answers']))"
   ]
  },
  {
   "cell_type": "code",
   "execution_count": 65,
   "metadata": {
    "ExecuteTime": {
     "end_time": "2019-10-31T07:24:09.416381Z",
     "start_time": "2019-10-31T07:24:09.413682Z"
    }
   },
   "outputs": [],
   "source": [
    "N_TEST = 345\n",
    "n_long_candidates_test = np.zeros(N_TEST)"
   ]
  },
  {
   "cell_type": "code",
   "execution_count": 66,
   "metadata": {
    "ExecuteTime": {
     "end_time": "2019-10-31T07:24:09.567230Z",
     "start_time": "2019-10-31T07:24:09.417889Z"
    }
   },
   "outputs": [
    {
     "data": {
      "application/vnd.jupyter.widget-view+json": {
       "model_id": "0989820215bd4186a6308d00d17fea3d",
       "version_major": 2,
       "version_minor": 0
      },
      "text/plain": [
       "HBox(children=(IntProgress(value=0, max=345), HTML(value='')))"
      ]
     },
     "metadata": {},
     "output_type": "display_data"
    },
    {
     "name": "stdout",
     "output_type": "stream",
     "text": [
      "\n"
     ]
    }
   ],
   "source": [
    "with open(PATH_TEST, 'rt') as f:\n",
    "    for i in tqdm(range(N_TEST)):\n",
    "        dic = json.loads(f.readline())\n",
    "        n_long_candidates_test[i] = len(dic['long_answer_candidates'])"
   ]
  },
  {
   "cell_type": "markdown",
   "metadata": {},
   "source": [
    "## Visualization"
   ]
  },
  {
   "cell_type": "code",
   "execution_count": 67,
   "metadata": {
    "ExecuteTime": {
     "end_time": "2019-10-31T07:24:09.571510Z",
     "start_time": "2019-10-31T07:24:09.568563Z"
    }
   },
   "outputs": [],
   "source": [
    "plt.style.use('seaborn-darkgrid')\n",
    "plt.style.use('seaborn-poster')"
   ]
  },
  {
   "cell_type": "markdown",
   "metadata": {
    "ExecuteTime": {
     "end_time": "2019-10-31T07:28:07.691209Z",
     "start_time": "2019-10-31T07:28:07.685205Z"
    }
   },
   "source": [
    "### Take a glance at data"
   ]
  },
  {
   "cell_type": "code",
   "execution_count": 160,
   "metadata": {
    "ExecuteTime": {
     "end_time": "2019-10-31T17:49:41.168792Z",
     "start_time": "2019-10-31T17:49:41.155156Z"
    }
   },
   "outputs": [],
   "source": [
    "def show_example(example_id):\n",
    "    example = df_train[df_train['example_id']==example_id]\n",
    "    document_text = example['document_text'].values[0]\n",
    "    question = example['question_text'].values[0]\n",
    "\n",
    "    annotations = example['annotations'].values[0]\n",
    "    la_start_token = annotations[0]['long_answer']['start_token']\n",
    "    la_end_token = annotations[0]['long_answer']['end_token']\n",
    "    long_answer = \" \".join(document_text.split(\" \")[la_start_token:la_end_token])\n",
    "    short_answers = annotations[0]['short_answers']\n",
    "    sa_list = []\n",
    "    for sa in short_answers:\n",
    "        sa_start_token = sa['start_token']\n",
    "        sa_end_token = sa['end_token']\n",
    "        short_answer = \" \".join(document_text.split(\" \")[sa_start_token:sa_end_token])\n",
    "        sa_list.append(short_answer)\n",
    "    \n",
    "    document_text = document_text.replace(long_answer,'<LALALALA>')\n",
    "    sa=False\n",
    "    la=''\n",
    "    \n",
    "    # fix empty short_answers bug\n",
    "    if short_answers:\n",
    "        for sa in short_answers:\n",
    "            sa_start_token = sa['start_token']\n",
    "            sa_end_token = sa['end_token']\n",
    "            for i,laword in enumerate(long_answer.split(\" \")):\n",
    "                ind = i+la_start_token\n",
    "                if ind==sa_start_token:\n",
    "                    la = la+' SASASASA'+laword\n",
    "                elif ind==sa_end_token-1:\n",
    "                    la = la+' '+laword+'SESESESE'\n",
    "                else:\n",
    "                    la = la+' '+laword\n",
    "    else:\n",
    "        la=long_answer\n",
    "#     print(la)\n",
    "    html = '<div style=\"font-weight: bold;font-size: 20px;color:#00239CFF\">Example Id</div><br/>'\n",
    "    html = html + '<div>' + str(example_id) + '</div><hr>'\n",
    "    html = html + '<div style=\"font-weight: bold;font-size: 20px;color:#00239CFF\">Question</div><br/>'\n",
    "    html = html + '<div>' + question + ' ?</div><hr>'\n",
    "    html = html + '<div style=\"font-weight: bold;font-size: 20px;color:#00239CFF\">Document Text</div><br/>'\n",
    "    \n",
    "    if la_start_token==-1:\n",
    "        html = html + '<div>There are no answers found in the document</div><hr>'\n",
    "    else:\n",
    "        la = la.replace('SASASASA','<span style=\"background-color:#C7D3D4FF; padding:5px\"><font color=\"#000\">')\n",
    "        la = la.replace('SESESESE','</font></span>')\n",
    "        document_text = document_text.replace('<LALALALA>','<div style=\"background-color:#603F83FF; padding:5px\"><font color=\"#fff\">'+la+'</font></div>')\n",
    "\n",
    "        #for simplicity, trim words from end of the document\n",
    "        html = html + '<div>' + \" \".join(document_text.split(\" \")[:la_end_token+200]) + ' </div>'\n",
    "    display(HTML(html))"
   ]
  },
  {
   "cell_type": "markdown",
   "metadata": {},
   "source": [
    "To keep scroll bar short, content from the document text is trimmed at the end.\n",
    "\n",
    "**Long answer is highlighted in dark blue, and short answers are in light blue.**"
   ]
  },
  {
   "cell_type": "code",
   "execution_count": 213,
   "metadata": {
    "ExecuteTime": {
     "end_time": "2019-11-02T10:49:05.175391Z",
     "start_time": "2019-11-02T10:49:05.166475Z"
    }
   },
   "outputs": [
    {
     "data": {
      "text/html": [
       "<div style=\"font-weight: bold;font-size: 20px;color:#00239CFF\">Example Id</div><br/><div>5328212470870865242</div><hr><div style=\"font-weight: bold;font-size: 20px;color:#00239CFF\">Question</div><br/><div>how i.met your mother who is the mother ?</div><hr><div style=\"font-weight: bold;font-size: 20px;color:#00239CFF\">Document Text</div><br/><div>The Mother ( How I Met Your Mother ) - wikipedia <H1> The Mother ( How I Met Your Mother ) </H1> Jump to : navigation , search <Table> <Tr> <Th_colspan=\"2\"> Tracy McConnell </Th> </Tr> <Tr> <Td_colspan=\"2\"> How I Met Your Mother character </Td> </Tr> <Tr> <Td_colspan=\"2\"> The Mother appearing in `` The Locket '' </Td> </Tr> <Tr> <Th> First appearance </Th> <Td> `` Lucky Penny ( unseen ) '' `` Something New '' ( seen ) </Td> </Tr> <Tr> <Th> Last appearance </Th> <Td> `` Last Forever '' </Td> </Tr> <Tr> <Th> Created by </Th> <Td> Carter Bays Craig Thomas </Td> </Tr> <Tr> <Th> Portrayed by </Th> <Td> Cristin Milioti </Td> </Tr> <Tr> <Th_colspan=\"2\"> Information </Th> </Tr> <Tr> <Th> Aliases </Th> <Td> The Mother </Td> </Tr> <Tr> <Th> Gender </Th> <Td> Female </Td> </Tr> <Tr> <Th> Spouse ( s ) </Th> <Td> Ted Mosby </Td> </Tr> <Tr> <Th> Significant other ( s ) </Th> <Td> Max ( deceased former boyfriend ) Louis ( ex-boyfriend ) </Td> </Tr> <Tr> <Th> Children </Th> <Td> Penny Mosby ( daughter , born in 2015 , played by Lyndsy Fonseca ) Luke Mosby ( son , born in 2017 , played by David Henrie ) </Td> </Tr> <Tr> <Th> Nationality </Th> <Td> American </Td> </Tr> </Table> <div style=\"background-color:#603F83FF; padding:5px\"><font color=\"#fff\"> <P> <span style=\"background-color:#C7D3D4FF; padding:5px\"><font color=\"#000\">Tracy McConnell</font></span> , better known as `` The Mother '' , is the title character from the CBS television sitcom How I Met Your Mother . The show , narrated by Future Ted , tells the story of how Ted Mosby met The Mother . Tracy McConnell appears in 8 episodes from `` Lucky Penny '' to `` The Time Travelers '' as an unseen character ; she was first seen fully in `` Something New '' and was promoted to a main character in season 9 . The Mother is played by Cristin Milioti . </P></font></div> <P> The story of how Ted met The Mother is the framing device behind the series ; many facts about her are revealed throughout the series , including the fact that Ted once unwittingly owned her umbrella before accidentally leaving it behind in her apartment . Ted and The Mother meet at the Farhampton train station following Barney Stinson and Robin Scherbatsky 's wedding ; this scene is shown in `` Last Forever '' , the series finale . The Mother 's death from an unspecified terminal illness in 2024 , also revealed in the series finale , received a mixed reaction from fans . </P> <P> An alternate ending was released in the ninth season DVD . In the alternate ending , Tracy Mosby is still living when Ted is telling the story in 2030 . In the video , future Ted is heard saying , `` ... When I think how lucky I am to wake up next to your mom every morning , I ca n't help but be amazed how easy it all really was ... '' , indirectly stating that The Mother is alive . The video ends </div>"
      ],
      "text/plain": [
       "<IPython.core.display.HTML object>"
      ]
     },
     "metadata": {},
     "output_type": "display_data"
    }
   ],
   "source": [
    "show_example(5328212470870865242)"
   ]
  },
  {
   "cell_type": "markdown",
   "metadata": {},
   "source": [
    "### Number of long answer candidates"
   ]
  },
  {
   "cell_type": "markdown",
   "metadata": {},
   "source": [
    "Some of data for long answers are swamped with a lot of candidates (**7946 in maximum!**):"
   ]
  },
  {
   "cell_type": "code",
   "execution_count": 68,
   "metadata": {
    "ExecuteTime": {
     "end_time": "2019-10-31T07:24:09.594587Z",
     "start_time": "2019-10-31T07:24:09.572856Z"
    }
   },
   "outputs": [
    {
     "data": {
      "text/plain": [
       "count    307373.000000\n",
       "mean        131.354185\n",
       "std         170.104565\n",
       "min           1.000000\n",
       "25%          45.000000\n",
       "50%          87.000000\n",
       "75%         158.000000\n",
       "max        7946.000000\n",
       "dtype: float64"
      ]
     },
     "execution_count": 68,
     "metadata": {},
     "output_type": "execute_result"
    }
   ],
   "source": [
    "pd.Series(n_long_candidates_train).describe()"
   ]
  },
  {
   "cell_type": "code",
   "execution_count": 69,
   "metadata": {
    "ExecuteTime": {
     "end_time": "2019-10-31T07:24:09.602557Z",
     "start_time": "2019-10-31T07:24:09.595866Z"
    }
   },
   "outputs": [
    {
     "data": {
      "text/plain": [
       "count     345.000000\n",
       "mean      130.710145\n",
       "std       171.995834\n",
       "min         2.000000\n",
       "25%        48.000000\n",
       "50%        86.000000\n",
       "75%       155.000000\n",
       "max      1837.000000\n",
       "dtype: float64"
      ]
     },
     "execution_count": 69,
     "metadata": {},
     "output_type": "execute_result"
    }
   ],
   "source": [
    "pd.Series(n_long_candidates_test).describe()"
   ]
  },
  {
   "cell_type": "markdown",
   "metadata": {},
   "source": [
    "n_long_candidates_train is long-tail distribution"
   ]
  },
  {
   "cell_type": "code",
   "execution_count": 70,
   "metadata": {
    "ExecuteTime": {
     "end_time": "2019-10-31T07:24:10.015466Z",
     "start_time": "2019-10-31T07:24:09.604223Z"
    }
   },
   "outputs": [
    {
     "data": {
      "text/plain": [
       "<matplotlib.legend.Legend at 0x7f5382cb41d0>"
      ]
     },
     "execution_count": 70,
     "metadata": {},
     "output_type": "execute_result"
    },
    {
     "data": {
      "image/png": "[encoded data removed]",
      "text/plain": [
       "<Figure size 921.6x633.6 with 1 Axes>"
      ]
     },
     "metadata": {},
     "output_type": "display_data"
    }
   ],
   "source": [
    "plt.hist(n_long_candidates_train, bins=64, alpha=0.5, color='c', label='train')\n",
    "plt.xlabel('long answer candidates')\n",
    "plt.ylabel('samples')\n",
    "plt.legend()"
   ]
  },
  {
   "cell_type": "markdown",
   "metadata": {},
   "source": [
    "n_long_candidates_train and n_long_candidates_test have similar distribution"
   ]
  },
  {
   "cell_type": "code",
   "execution_count": 71,
   "metadata": {
    "ExecuteTime": {
     "end_time": "2019-10-31T07:24:10.634802Z",
     "start_time": "2019-10-31T07:24:10.016565Z"
    }
   },
   "outputs": [
    {
     "data": {
      "text/plain": [
       "<matplotlib.legend.Legend at 0x7f5382bcdb90>"
      ]
     },
     "execution_count": 71,
     "metadata": {},
     "output_type": "execute_result"
    },
    {
     "data": {
      "image/png": "[encoded data removed]",
      "text/plain": [
       "<Figure size 921.6x633.6 with 1 Axes>"
      ]
     },
     "metadata": {},
     "output_type": "display_data"
    }
   ],
   "source": [
    "plt.hist(n_long_candidates_train[n_long_candidates_train < np.max(n_long_candidates_test)], density=True, bins=64, alpha=0.5, color='c', label='train')\n",
    "plt.hist(n_long_candidates_test, density=True, bins=64, alpha=0.5, color='orange', label='test')\n",
    "plt.xlabel('long answer candidates')\n",
    "plt.ylabel('sample proportion')\n",
    "plt.legend()"
   ]
  },
  {
   "cell_type": "markdown",
   "metadata": {},
   "source": [
    "### Short answer labels"
   ]
  },
  {
   "cell_type": "markdown",
   "metadata": {},
   "source": [
    "- 63.47% 'NO ANSWERS' in short answer labels\n",
    "- one question can have multiple short answers within same long anwser\n",
    "- when yes-no answer is not 'None' (i.e. yes or no), short answer always be empty"
   ]
  },
  {
   "cell_type": "code",
   "execution_count": 230,
   "metadata": {
    "ExecuteTime": {
     "end_time": "2019-11-02T11:11:34.267345Z",
     "start_time": "2019-11-02T11:11:34.186833Z"
    }
   },
   "outputs": [
    {
     "data": {
      "text/plain": [
       "count    307373.000000\n",
       "mean          0.423697\n",
       "std           0.785533\n",
       "min           0.000000\n",
       "25%           0.000000\n",
       "50%           0.000000\n",
       "75%           1.000000\n",
       "max          25.000000\n",
       "dtype: float64"
      ]
     },
     "execution_count": 230,
     "metadata": {},
     "output_type": "execute_result"
    }
   ],
   "source": [
    "pd.Series(t_short_train).describe()"
   ]
  },
  {
   "cell_type": "code",
   "execution_count": 222,
   "metadata": {
    "ExecuteTime": {
     "end_time": "2019-11-02T11:09:06.284781Z",
     "start_time": "2019-11-02T11:09:05.965131Z"
    }
   },
   "outputs": [
    {
     "data": {
      "text/plain": [
       "<matplotlib.legend.Legend at 0x7f5045611950>"
      ]
     },
     "execution_count": 222,
     "metadata": {},
     "output_type": "execute_result"
    },
    {
     "data": {
      "image/png": "[encoded data removed]",
      "text/plain": [
       "<Figure size 921.6x633.6 with 1 Axes>"
      ]
     },
     "metadata": {},
     "output_type": "display_data"
    }
   ],
   "source": [
    "plt.hist(t_short_train, bins=range(max(t_short_train)), align='left', density=True, rwidth=0.6, color='lightseagreen', label='train')\n",
    "plt.xlabel('short answer')\n",
    "plt.ylabel('sample proportion')\n",
    "plt.legend()"
   ]
  },
  {
   "cell_type": "markdown",
   "metadata": {
    "ExecuteTime": {
     "end_time": "2019-11-02T11:16:53.576379Z",
     "start_time": "2019-11-02T11:16:53.560201Z"
    }
   },
   "source": [
    "a example with multiple short answers"
   ]
  },
  {
   "cell_type": "code",
   "execution_count": 236,
   "metadata": {
    "ExecuteTime": {
     "end_time": "2019-11-02T11:17:06.510870Z",
     "start_time": "2019-11-02T11:17:06.500667Z"
    },
    "scrolled": true
   },
   "outputs": [
    {
     "data": {
      "text/html": [
       "<div style=\"font-weight: bold;font-size: 20px;color:#00239CFF\">Example Id</div><br/><div>-1413521544318030897</div><hr><div style=\"font-weight: bold;font-size: 20px;color:#00239CFF\">Question</div><br/><div>who have been the hosts of the price is right ?</div><hr><div style=\"font-weight: bold;font-size: 20px;color:#00239CFF\">Document Text</div><br/><div>The Price Is Right - wikipedia <H1> The Price Is Right </H1> Jump to : navigation , search This article is about The Price Is Right franchise . For the American version airing since 1972 , see The Price Is Right ( U.S. game show ) . For other uses , see The Price Is Right ( disambiguation ) . <Table> <Tr> <Td> </Td> <Td> ( hide ) This article has multiple issues . Please help improve it or discuss these issues on the talk page . ( Learn how and when to remove these template messages ) <Table> <Tr> <Td> </Td> <Td> This article may contain too many colloquial terms , phrases or words . These concerns ought to be addressed or reviewed . Specific concerns may be found on the talk page . See Wikipedia 's guide to writing better articles for suggestions . ( December 2010 ) </Td> </Tr> </Table> <Table> <Tr> <Td> </Td> <Td> This article needs additional citations for verification . Please help improve this article by adding citations to reliable sources . Unsourced material may be challenged and removed . ( December 2010 ) ( Learn how and when to remove this template message ) </Td> </Tr> </Table> ( Learn how and when to remove this template message ) </Td> </Tr> </Table> <div style=\"background-color:#603F83FF; padding:5px\"><font color=\"#fff\"> <P> The Price Is Right is a television game show franchise originally produced by Mark Goodson and Bill Todman , and created by Bob Stewart , and is currently produced and owned by FremantleMedia ( Endemol in Netherlands ) . The franchise centers on television game shows , but also includes merchandise such as video games , printed media and board games . The franchise began in 1956 as a television game show hosted by <span style=\"background-color:#C7D3D4FF; padding:5px\"><font color=\"#000\">Bill Cullen</font></span> and was revamped in 1972 . This version was originally hosted by Bob Barker . Since 2007 , Drew Carey has hosted the program . </P> <P> The Price Is Right is a television game show franchise originally produced by Mark Goodson and Bill Todman , and created by Bob Stewart , and is currently produced and owned by FremantleMedia ( Endemol in Netherlands ) . The franchise centers on television game shows , but also includes merchandise such as video games , printed media and board games . The franchise began in 1956 as a television game show hosted by Bill Cullen and was revamped in 1972 . This version was originally hosted by <span style=\"background-color:#C7D3D4FF; padding:5px\"><font color=\"#000\">Bob Barker</font></span> . Since 2007 , Drew Carey has hosted the program . </P> <P> The Price Is Right is a television game show franchise originally produced by Mark Goodson and Bill Todman , and created by Bob Stewart , and is currently produced and owned by FremantleMedia ( Endemol in Netherlands ) . The franchise centers on television game shows , but also includes merchandise such as video games , printed media and board games . The franchise began in 1956 as a television game show hosted by Bill Cullen and was revamped in 1972 . This version was originally </div>"
      ],
      "text/plain": [
       "<IPython.core.display.HTML object>"
      ]
     },
     "metadata": {},
     "output_type": "display_data"
    }
   ],
   "source": [
    "show_example(-1413521544318030897)"
   ]
  },
  {
   "cell_type": "markdown",
   "metadata": {},
   "source": [
    "when yes-no answer is not 'None' (i.e. yes or no), short answer always be empty"
   ]
  },
  {
   "cell_type": "code",
   "execution_count": 266,
   "metadata": {
    "ExecuteTime": {
     "end_time": "2019-11-02T11:41:10.482976Z",
     "start_time": "2019-11-02T11:41:10.333239Z"
    }
   },
   "outputs": [],
   "source": [
    "# no_answer_state[1,:] is the number of train data whose short answer is empty\n",
    "# no_answer_state[:,0] is the number of train data whose yes-no answer is 'YES' OR 'NO'\n",
    "t_short_train = np.array(t_short_train)\n",
    "yesno_answer_state = np.zeros((2,2))\n",
    "yesno_answer_state[1,1] = np.sum((t_short_train==0) * (np.array([ 1 if t=='NONE' else 0 for t in t_yesno_train ])))\n",
    "yesno_answer_state[1,0] = np.sum((t_short_train==0) * (np.array([ 0 if t=='NONE' else 1 for t in t_yesno_train ])))\n",
    "yesno_answer_state[0,1] = np.sum((t_short_train>0) * (np.array([ 1 if t=='NONE' else 0 for t in t_yesno_train ])))\n",
    "yesno_answer_state[0,0] = np.sum((t_short_train>0) * (np.array([ 0 if t=='NONE' else 1 for t in t_yesno_train ])))        "
   ]
  },
  {
   "cell_type": "code",
   "execution_count": 267,
   "metadata": {
    "ExecuteTime": {
     "end_time": "2019-11-02T11:41:11.135522Z",
     "start_time": "2019-11-02T11:41:11.129438Z"
    }
   },
   "outputs": [
    {
     "data": {
      "text/plain": [
       "array([[     0., 106926.],\n",
       "       [  3798., 196649.]])"
      ]
     },
     "execution_count": 267,
     "metadata": {},
     "output_type": "execute_result"
    }
   ],
   "source": [
    "yesno_answer_state"
   ]
  },
  {
   "cell_type": "code",
   "execution_count": 268,
   "metadata": {
    "ExecuteTime": {
     "end_time": "2019-11-02T11:41:13.347063Z",
     "start_time": "2019-11-02T11:41:13.163266Z"
    }
   },
   "outputs": [
    {
     "data": {
      "text/plain": [
       "<matplotlib.axes._subplots.AxesSubplot at 0x7f50441a84d0>"
      ]
     },
     "execution_count": 268,
     "metadata": {},
     "output_type": "execute_result"
    },
    {
     "data": {
      "image/png": "[encoded data removed]",
      "text/plain": [
       "<Figure size 921.6x633.6 with 2 Axes>"
      ]
     },
     "metadata": {},
     "output_type": "display_data"
    }
   ],
   "source": [
    "sns.heatmap(yesno_answer_state / N_TRAIN, annot=True, annot_kws={\"size\": 25}, fmt='.3f', cmap='Blues_r')"
   ]
  },
  {
   "cell_type": "markdown",
   "metadata": {},
   "source": [
    "### Yes-no answer labels"
   ]
  },
  {
   "cell_type": "markdown",
   "metadata": {},
   "source": [
    "We can see significant class imbalance in yes-no answer labels."
   ]
  },
  {
   "cell_type": "code",
   "execution_count": 72,
   "metadata": {
    "ExecuteTime": {
     "end_time": "2019-10-31T07:24:10.995600Z",
     "start_time": "2019-10-31T07:24:10.635886Z"
    }
   },
   "outputs": [
    {
     "data": {
      "text/plain": [
       "<matplotlib.legend.Legend at 0x7f538294cc50>"
      ]
     },
     "execution_count": 72,
     "metadata": {},
     "output_type": "execute_result"
    },
    {
     "data": {
      "image/png": "[encoded data removed]",
      "text/plain": [
       "<Figure size 921.6x633.6 with 1 Axes>"
      ]
     },
     "metadata": {},
     "output_type": "display_data"
    }
   ],
   "source": [
    "plt.hist(t_yesno_train, bins=[0,1,2,3], align='left', density=True, rwidth=0.6, color='lightseagreen', label='train')\n",
    "plt.xlabel('yes-no answer')\n",
    "plt.ylabel('sample proportion')\n",
    "plt.legend()"
   ]
  },
  {
   "cell_type": "markdown",
   "metadata": {
    "ExecuteTime": {
     "end_time": "2019-10-31T17:51:35.940704Z",
     "start_time": "2019-10-31T17:51:35.877393Z"
    }
   },
   "source": [
    "Example of NO"
   ]
  },
  {
   "cell_type": "code",
   "execution_count": 196,
   "metadata": {
    "ExecuteTime": {
     "end_time": "2019-11-01T09:03:23.548123Z",
     "start_time": "2019-11-01T09:03:23.539678Z"
    }
   },
   "outputs": [
    {
     "data": {
      "text/plain": [
       "[{'yes_no_answer': 'NO',\n",
       "  'long_answer': {'start_token': 6539,\n",
       "   'candidate_index': 77,\n",
       "   'end_token': 6646},\n",
       "  'short_answers': [],\n",
       "  'annotation_id': 13761098100656608312}]"
      ]
     },
     "execution_count": 196,
     "metadata": {},
     "output_type": "execute_result"
    }
   ],
   "source": [
    "df_train[df_train.example_id==3817861884803470204]['annotations'].iloc[0]"
   ]
  },
  {
   "cell_type": "code",
   "execution_count": 163,
   "metadata": {
    "ExecuteTime": {
     "end_time": "2019-10-31T17:50:12.006297Z",
     "start_time": "2019-10-31T17:50:11.995533Z"
    },
    "scrolled": true
   },
   "outputs": [
    {
     "data": {
      "text/html": [
       "<div style=\"font-weight: bold;font-size: 20px;color:#00239CFF\">Example Id</div><br/><div>3817861884803470204</div><hr><div style=\"font-weight: bold;font-size: 20px;color:#00239CFF\">Question</div><br/><div>is hong kong a part of the commonwealth ?</div><hr><div style=\"font-weight: bold;font-size: 20px;color:#00239CFF\">Document Text</div><br/><div>Commonwealth of Nations - wikipedia <H1> Commonwealth of Nations </H1> Jump to : navigation , search `` The Commonwealth '' redirects here . It is not to be confused with the Commonwealth of Independent States . For other uses , see Commonwealth ( disambiguation ) . <Table> <Tr> <Th_colspan=\"2\"> Commonwealth of Nations </Th> </Tr> <Tr> <Td_colspan=\"2\"> Flag Logo </Td> </Tr> <Tr> <Td_colspan=\"2\"> Member states of the Commonwealth </Td> </Tr> <Tr> <Th> Headquarters </Th> <Td> Marlborough House , London , England , United Kingdom </Td> </Tr> <Tr> <Th> Working language </Th> <Td> English </Td> </Tr> <Tr> <Th> Type </Th> <Td> Intergovernmental organisation </Td> </Tr> <Tr> <Th> Member states </Th> <Td> 52 states ( show ) <Ul> <Li> Antigua and Barbuda </Li> <Li> Australia </Li> <Li> Bahamas </Li> <Li> Bangladesh </Li> <Li> Barbados </Li> <Li> Belize </Li> <Li> Botswana </Li> <Li> Brunei </Li> <Li> Cameroon </Li> <Li> Canada </Li> <Li> Cyprus </Li> <Li> Dominica </Li> <Li> Fiji </Li> <Li> Ghana </Li> <Li> Grenada </Li> <Li> Guyana </Li> <Li> India </Li> <Li> Jamaica </Li> <Li> Kenya </Li> <Li> Kiribati </Li> <Li> Lesotho </Li> <Li> Malawi </Li> <Li> Malaysia </Li> <Li> Malta </Li> <Li> Mauritius </Li> <Li> Mozambique </Li> <Li> Namibia </Li> <Li> Nauru </Li> <Li> New Zealand </Li> <Li> Nigeria </Li> <Li> Pakistan </Li> <Li> Papua New Guinea </Li> <Li> Rwanda </Li> <Li> Saint Kitts and Nevis </Li> <Li> Saint Lucia </Li> <Li> Saint Vincent and the Grenadines </Li> <Li> Samoa </Li> <Li> Seychelles </Li> <Li> Sierra Leone </Li> <Li> Singapore </Li> <Li> Solomon Islands </Li> <Li> South Africa </Li> <Li> Sri Lanka </Li> <Li> Swaziland </Li> <Li> Tanzania </Li> <Li> Tonga </Li> <Li> Trinidad and Tobago </Li> <Li> Tuvalu </Li> <Li> Uganda </Li> <Li> United Kingdom </Li> <Li> Vanuatu </Li> <Li> Zambia </Li> </Ul> </Td> </Tr> <Tr> <Th_colspan=\"2\"> Leaders </Th> </Tr> <Tr> <Th> Head </Th> <Td> Elizabeth II </Td> </Tr> <Tr> <Th> Secretary - General </Th> <Td> Patricia Scotland </Td> </Tr> <Tr> <Th> Chair - in - Office </Th> <Td> Joseph Muscat </Td> </Tr> <Tr> <Th_colspan=\"2\"> Establishment </Th> </Tr> <Tr> <Th> Balfour Declaration </Th> <Td> 19 November 1926 </Td> </Tr> <Tr> <Th> Statute of Westminster </Th> <Td> 11 December 1931 </Td> </Tr> <Tr> <Th> London Declaration </Th> <Td> 28 April 1949 </Td> </Tr> <Tr> <Th_colspan=\"2\"> Area </Th> </Tr> <Tr> <Th> Total </Th> <Td> 29,958,050 km ( 11,566,870 sq mi ) </Td> </Tr> <Tr> <Th_colspan=\"2\"> Population </Th> </Tr> <Tr> <Th> 2016 estimate </Th> <Td> 2,418,964,000 </Td> </Tr> <Tr> <Th> Density </Th> <Td> 75 / km ( 194.2 / sq mi ) </Td> </Tr> <Tr> <Th> GDP ( PPP ) </Th> <Td> 2014 estimate </Td> </Tr> <Tr> <Th> Total </Th> <Td> $14.623 trillion </Td> </Tr> <Tr> <Th> Per capita </Th> <Td> $6,222 </Td> </Tr> <Tr> <Th> GDP ( nominal ) </Th> <Td> 2014 estimate </Td> </Tr> <Tr> <Th> Total </Th> <Td> $10.450 trillion </Td> </Tr> <Tr> <Th> Per capita </Th> <Td> $4,446 </Td> </Tr> <Tr> <Td_colspan=\"2\"> Website thecommonwealth.org </Td> </Tr> </Table> <P> The Commonwealth of Nations ( formerly the British Commonwealth ) , also known as simply the Commonwealth , is an intergovernmental organisation of 52 member states that are mostly former territories of the British Empire . The Commonwealth operates by intergovernmental consensus of the member states , organised through the Commonwealth Secretariat and non-governmental organisations , organised through the Commonwealth Foundation . </P> <P> The Commonwealth dates back to the mid-20th century with the decolonisation of the British Empire through increased self - governance of its territories . It was formally constituted by the London Declaration in 1949 , which established the member states as `` free and equal '' . The symbol of this free association is Queen Elizabeth II who is the Head of the Commonwealth , but this role does not carry any power with it . While there are over 31 republics and five monarchies who have a different monarch , the Queen is the ceremonial head of state and reigning constitutional monarch of 16 members of the Commonwealth , known as Commonwealth realms but retains a crown legally distinct from the other realms with the position as monarch being separate from that of Head of the Commonwealth . </P> <P> Member states have no legal obligation to one another . Instead , they are united by language , history , culture and their shared values of democracy , free speech , human rights , and the rule of law . These values are enshrined in the Commonwealth Charter and promoted by the quadrennial Commonwealth Games . </P> <P> The Commonwealth covers more than 29,958,050 km ( 11,566,870 sq mi ) -- equivalent to 20 % of the world 's land area . It spans all six inhabited continents . With an estimated population of 2.419 billion people , nearly a third of the world population , the Commonwealth in 2014 produced a nominal gross domestic product ( GDP ) of $10.45 trillion , representing 14 % of the gross world product when measured nominally and 17 % of the gross world product when measured in purchasing power parity ( PPP ) . </P> <P> </P> <H2> Contents </H2> ( hide ) <Ul> <Li> 1 History <Ul> <Li> 1.1 Origin </Li> <Li> 1.2 Dominions </Li> <Li> 1.3 Decolonisation and self - governance </Li> <Li> 1.4 Declining roles </Li> <Li> 1.5 Republics </Li> <Li> 1.6 New Commonwealth </Li> <Li> 1.7 Plan G and inviting Europe to join </Li> </Ul> </Li> <Li> 2 Structure <Ul> <Li> 2.1 Head of the Commonwealth </Li> <Li> 2.2 Commonwealth Heads of Government Meeting </Li> <Li> 2.3 Commonwealth Secretariat </Li> <Li> 2.4 Commonwealth citizenship and high commissioners </Li> </Ul> </Li> <Li> 3 Membership <Ul> <Li> 3.1 Criteria </Li> <Li> 3.2 Members </Li> <Li> 3.3 Applicants </Li> <Li> 3.4 Suspension </Li> <Li> 3.5 Termination </Li> </Ul> </Li> <Li> 4 Politics <Ul> <Li> 4.1 Objectives and activities </Li> <Li> 4.2 Competence </Li> <Li> 4.3 Proposed free movement policy </Li> </Ul> </Li> <Li> 5 Economy <Ul> <Li> 5.1 Trade </Li> </Ul> </Li> <Li> 6 Commonwealth Family <Ul> <Li> 6.1 Commonwealth Foundation </Li> <Li> 6.2 Commonwealth Games </Li> <Li> 6.3 Commonwealth War Graves Commission </Li> <Li> 6.4 Commonwealth of Learning </Li> <Li> 6.5 The Commonwealth Local Government Forum </Li> </Ul> </Li> <Li> 7 Culture <Ul> <Li> 7.1 Sport </Li> <Li> 7.2 Literature <Ul> <Li> 7.2. 1 English as official language </Li> </Ul> </Li> <Li> 7.3 Political system </Li> <Li> 7.4 Symbols </Li> <Li> 7.5 Recognition </Li> </Ul> </Li> <Li> 8 See also </Li> <Li> 9 Notes </Li> <Li> 10 References </Li> <Li> 11 Further reading <Ul> <Li> 11.1 Primary sources </Li> </Ul> </Li> <Li> 12 External links </Li> </Ul> <P> </P> <H2> History ( edit ) </H2> <H3> Origin ( edit ) </H3> Main articles : British Empire and Historiography of the British Empire The prime ministers of five members at the 1944 Commonwealth Prime Ministers ' Conference . ( L-R ) Mackenzie King ( Canada ) ; Jan Smuts ( South Africa ) ; Winston Churchill ( United Kingdom ) ; Peter Fraser ( New Zealand ) ; John Curtin ( Australia ) <P> Queen Elizabeth II , in her address to Canada on Dominion Day in 1959 , pointed out that the confederation of Canada on 1 July 1867 had been the birth of the `` first independent country within the British Empire '' . She declared : `` So , it also marks the beginning of that free association of independent states which is now known as the Commonwealth of Nations . '' As long ago as 1884 , however , Lord Rosebery , while visiting Australia , had described the changing British Empire -- as some of its colonies became more independent -- as a `` Commonwealth of Nations '' . Conferences of British and colonial prime ministers occurred periodically from the first one in 1887 , leading to the creation of the Imperial Conferences in 1911 . </P> <P> The Commonwealth developed from the imperial conferences . A specific proposal was presented by Jan Smuts in 1917 when he coined the term `` the British Commonwealth of Nations '' and envisioned the `` future constitutional relations and readjustments in essence '' at the Paris Peace Conference of 1919 by delegates from the Dominions as well as Britain . The term first received imperial statutory recognition in the Anglo - Irish Treaty of 1921 , when the term British Commonwealth of Nations was substituted for British Empire in the wording of the oath taken by members of parliament of the Irish Free State . </P> <H3> Dominions ( edit ) </H3> <P> In the Balfour Declaration at the 1926 Imperial Conference , Britain and its dominions agreed they were `` equal in status , in no way subordinate one to another in any aspect of their domestic or external affairs , though united by common allegiance to the Crown , and freely associated as members of the British Commonwealth of Nations . '' These aspects to the relationship were formalised by the Statute of Westminster in 1931 , which applied to Canada without the need for ratification , but Australia , New Zealand , and Newfoundland had to ratify the statute for it to take effect . Newfoundland never did , as on 16 February 1934 , with the consent of its parliament , the government of Newfoundland voluntarily ended and governance reverted to direct control from London . Newfoundland later joined Canada as its 10th province in 1949 . Australia and New Zealand ratified the Statute in 1942 and 1947 respectively . </P> <P> Although the Union of South Africa was not among the Dominions that needed to adopt the Statute of Westminster for it to take effect , two laws -- the Status of the Union Act , 1934 , and the Royal Executive Functions and Seals Act of 1934 -- were passed to confirm South Africa 's status as a sovereign state . </P> <H3> Decolonisation and self - governance ( edit ) </H3> Main article : List of countries that have gained independence from the United Kingdom <P> After World War II ended , the British Empire was gradually dismantled . Most of its components have become independent countries , whether Commonwealth realms or republics , and members of the Commonwealth . There remain the 14 mainly self - governing British overseas territories which retain some political association with the United Kingdom . In April 1949 , following the London Declaration , the word `` British '' was dropped from the title of the Commonwealth to reflect its changing nature . </P> <P> Burma ( also known as Myanmar , 1948 ) and Aden ( 1967 ) are the only states that were British colonies at the time of the war not to have joined the Commonwealth upon independence . Former British protectorates and mandates that did not become members of the Commonwealth are Egypt ( independent in 1922 ) , Iraq ( 1932 ) , Transjordan ( 1946 ) , British Palestine ( part of which became the state of Israel in 1948 ) , Sudan ( 1956 ) , British Somaliland ( which united with the former Italian Somaliland in 1960 to form the Somali Republic ) , Kuwait ( 1961 ) , Bahrain ( 1971 ) , Oman ( 1971 ) , Qatar ( 1971 ) , and the United Arab Emirates ( 1971 ) . </P> <H3> Declining roles ( edit ) </H3> <P> The postwar Commonwealth was given a fresh mission by Queen Elizabeth in her Christmas Day 1953 broadcast , where she envisioned the Commonwealth as `` an entirely new conception -- built on the highest qualities of the Spirit of Man : friendship , loyalty , and the desire for freedom and peace . '' Hoped for success was reinforced by such achievements as climbing Mount Everest in 1953 , breaking the four minute mile in 1954 , and in 1966 a solo circumnavigation of the globe . However , the humiliation of the Suez Crisis of 1956 badly hurt morale of Britain and the Commonwealth as a whole . More broadly , there was the loss of a central role of the British Empire : the defence of the Empire . That role was no longer militarily or financially feasible , as Britain 's withdrawal from Greece in 1947 had painfully demonstrated . Britain itself was now just one part of the NATO military alliance in which the Commonwealth had no role apart from Canada . The ANZUS treaty of 1955 linked Australia , New Zealand , and the United States in a defensive alliance , with Britain and the Commonwealth left out . The second major function of the Empire made London the financial centre of the system . After the Second World War , the British treasury was so weak that it could not operate independently of the United States . The loss of defence and financial roles , furthermore , undermined Joseph Chamberlain 's early 20th century vision of a world empire that could combine Imperial preference , mutual defence , and social growth arm . Furthermore , Britain 's cosmopolitan role in world affairs became increasingly limited , especially with the losses of India and Singapore . While British elites at first hoped the Commonwealth would preserve and project British influence , they gradually lost their enthusiasm , argues Krishnan Srinivasan . Early enthusiasm waned as British policies came under fire in Commonwealth meetings . Public opinion became troubled as immigration from non-white member states became large - scale . </P> <H3> Republics ( edit ) </H3> <P> On 18 April 1949 , Ireland formally became a republic in accordance with the Irish Republic of Ireland Act 1948 . Because it did this , it was automatically excluded from the Commonwealth . While Ireland had not actively participated in the Commonwealth since the early 1930s and was content to leave the Commonwealth , other dominions wished to become republics without losing Commonwealth ties . The issue came to a head in April 1949 at a Commonwealth prime ministers ' meeting in London . Under the London Declaration , India agreed that , when it became a republic in January 1950 , it would accept the British Sovereign as a `` symbol of the free association of its independent member nations and as such the Head of the Commonwealth '' . Upon hearing this , King George VI told the Indian politician Krishna Menon : `` So , I 've become ' as such ' '' . The other Commonwealth countries recognised India 's continuing membership of the association . At Pakistan 's insistence , India was not regarded as an exceptional case and it was assumed that other states would be accorded the same treatment as India . </P> <P> The London Declaration is often seen as marking the beginning of the modern Commonwealth . Following India 's precedent , other nations became republics , or constitutional monarchies with their own monarchs , while some countries retained the same monarch as the United Kingdom , but their monarchies developed differently and soon became fully independent of the British monarchy . The monarch is regarded as a separate legal personality in each realm , even though the same person is monarch of each realm . </P> <H3> New Commonwealth ( edit ) </H3> <P> Planners in the interwar period , like Lord Davies , who had also taken `` a prominent part in building up the League of Nations Union '' in the United Kingdom , in 1932 founded the New Commonwealth Society , of which British section Winston Churchill became the president . This new society was aimed at the creation of an international air force to be the arm of the League of Nations , to allow nations to disarm and safeguard the peace . </P> <P> The term New Commonwealth has been used in Great Britain ( especially in the 1960s and 1970s ) to refer to recently decolonised countries , predominantly non-white and developing . It was often used in debates about immigration from these countries . Britain and the pre-1945 dominions became informally known as the Old Commonwealth , or more pointedly as the white Commonwealth . </P> <H3> Plan G and inviting Europe to join ( edit ) </H3> <P> At a time when Germany and France , together with Belgium , Italy , Luxembourg , and the Netherlands , were planning for what later became the European Union , and newly independent African countries were joining the Commonwealth , new ideas were floated to prevent Britain from becoming isolated in economic affairs . British trade with the Commonwealth was four times larger than trade with Europe . The British government under Prime Minister Anthony Eden considered in 1956 and 1957 a `` plan G '' to create a European free trade zone while also protecting the favoured status of the Commonwealth . Britain also considered inviting Scandinavian and other European countries to join the Commonwealth so it would become a major economic common market . At one point in October 1956 Eden and French Prime Minister Guy Mollet discussed having France join the Commonwealth . Nothing came of any of the proposals . </P> <H2> Structure ( edit ) </H2> <H3> Head of the Commonwealth ( edit ) </H3> Main article : Head of the Commonwealth Queen Elizabeth II , Head of the Commonwealth <P> Under the formula of the London Declaration , Queen Elizabeth II is the Head of the Commonwealth , a title that is by law a part of Elizabeth 's royal titles in each of the Commonwealth realms , the 16 members of the Commonwealth that recognise the Queen as their monarch . However , when the monarch dies , the successor to the crown does not automatically become Head of the Commonwealth . The position is symbolic , representing the free association of independent members , the majority of which ( 31 ) are republics , and five have monarchs of different royal houses ( Brunei , Lesotho , Malaysia , Swaziland , and Tonga ) . </P> <H3> Commonwealth Heads of government meeting ( edit ) </H3> Main article : Commonwealth Heads of Government Meeting <P> The main decision - making forum of the organisation is the biennial Commonwealth Heads of Government Meeting ( CHOGM ) , where Commonwealth heads of government , including ( amongst others ) prime ministers and presidents , assemble for several days to discuss matters of mutual interest . CHOGM is the successor to the Meetings of Commonwealth Prime Ministers and , earlier , the Imperial Conferences and Colonial Conferences , dating back to 1887 . There are also regular meetings of finance ministers , law ministers , health ministers , etc . Members in arrears , as special members before them , are not invited to send representatives to either ministerial meetings or CHOGMs . </P> <P> The head of government hosting the CHOGM is called the Commonwealth Chairperson - in - Office and retains the position until the following CHOGM . After the most recent CHOGM , in Valletta , Malta , from 26 to 29 November 2015 Malta 's prime minister , Joseph Muscat , became the Chairperson - in - Office and will continue to hold the title until the next CHOGM . </P> <H3> Commonwealth Secretariat ( edit ) </H3> Main article : Commonwealth Secretariat Marlborough House , London , the headquarters of the Commonwealth Secretariat , the Commonwealth 's principal intergovernmental institution <P> The Commonwealth Secretariat , established in 1965 , is the main intergovernmental agency of the Commonwealth , facilitating consultation and co-operation among member governments and countries . It is responsible to member governments collectively . The Commonwealth of Nations is represented in the United Nations General Assembly by the secretariat as an observer . The secretariat organises Commonwealth summits , meetings of ministers , consultative meetings and technical discussions ; it assists policy development and provides policy advice , and facilitates multilateral communication among the member governments . It also provides technical assistance to help governments in the social and economic development of their countries and in support of the Commonwealth 's fundamental political values . </P> <P> The secretariat is headed by the Commonwealth Secretary - General who is elected by Commonwealth heads of government for no more than two four - year terms . The secretary - general and two deputy secretaries - general direct the divisions of the Secretariat . The present secretary - general is Patricia Scotland , Baroness Scotland of Asthal , from Dominica , who took office on 1 April 2016 , succeeding Kamalesh Sharma of India ( 2008 -- 2016 ) . The first secretary - general was Arnold Smith of Canada ( 1965 -- 75 ) , followed by Sir Shridath Ramphal of Guyana ( 1975 -- 90 ) , Chief Emeka Anyaoku of Nigeria ( 1990 -- 99 ) , and Don McKinnon of New Zealand ( 2000 - 2008 ) . </P> <H3> Commonwealth citizenship and High commissioners ( edit ) </H3> Main article : Commonwealth citizen <P> In recognition of their shared heritage and culture , Commonwealth countries are not considered to be `` foreign '' to each other , although the technical extent of this concept varies in different countries . For example , in Australia , for the purpose of considering certain constitutional and legal provisions no distinction is made between Commonwealth and foreign countries : in the High Court case of Sue v Hill , other Commonwealth countries were held to be foreign powers ; similarly , in Nolan v Minister for Immigration and Ethnic Affairs , the nationals of other Commonwealth realms were held to be ' aliens ' . Nevertheless , the closer association amongst Commonwealth countries is reflected at least in the diplomatic protocols of the Commonwealth countries . For example , when engaging bilaterally with one another , Commonwealth governments exchange high commissioners instead of ambassadors . Between two Commonwealth realms , they represent the head of government rather than the head of state . </P> <P> In addition , some members treat resident citizens of other Commonwealth countries preferentially to citizens of non-Commonwealth countries . Britain and several others , mostly in the Caribbean , grant the right to vote to Commonwealth citizens who reside in those countries . In non-Commonwealth countries in which their own country is not represented , Commonwealth citizens may seek consular assistance at the British embassy . Other alternatives can also occur such as an emergency consular services agreement between Canada and Australia that began in 1986 . </P> <H2> Membership ( edit ) </H2> Members of the Commonwealth shaded according to their political status . Commonwealth realms are shown in blue , republics in pink , and members with their own monarchy are displayed in green . <H3> Criteria ( edit ) </H3> Main article : Commonwealth of Nations membership criteria <P> The criteria for membership of the Commonwealth of Nations have developed over time from a series of separate documents . The Statute of Westminster 1931 , as a fundamental founding document of the organisation , laid out that membership required dominionhood . The 1949 London Declaration ended this , allowing republican and indigenous monarchic members on the condition that they recognised the British monarch as the `` Head of the Commonwealth '' . In the wake of the wave of decolonisation in the 1960s , these constitutional principles were augmented by political , economic , and social principles . The first of these was set out in 1961 , when it was decided that respect for racial equality would be a requirement for membership , leading directly to the withdrawal of South Africa 's re-application ( which they were required to make under the formula of the London Declaration upon becoming a republic ) . The 14 points of the 1971 Singapore Declaration dedicated all members to the principles of world peace , liberty , human rights , equality , and free trade . </P> <P> These criteria were unenforceable for two decades , until , in 1991 , the Harare Declaration was issued , dedicating the leaders to applying the Singapore principles to the completion of decolonisation , the end of the Cold War , and the end of apartheid in South Africa . The mechanisms by which these principles would be applied were created , and the manner clarified , by the 1995 Millbrook Commonwealth Action Programme , which created the Commonwealth Ministerial Action Group ( CMAG ) , which has the power to rule on whether members meet the requirements for membership under the Harare Declaration . Also in 1995 , an Inter-Governmental Group was created to finalise and codify the full requirements for membership . Upon reporting in 1997 , as adopted under the Edinburgh Declaration , the Inter-Governmental Group ruled that any future members would have to have a direct constitutional link with an existing member . </P> <P> In addition to this new rule , the former rules were consolidated into a single document . These requirements are that members must accept and comply with the Harare principles , be fully sovereign states , recognise the monarch of the Commonwealth realms as the Head of the Commonwealth , accept the English language as the means of Commonwealth communication , and respect the wishes of the general population with regard to Commonwealth membership . These requirements had undergone review , and a report on potential amendments was presented by the Committee on Commonwealth Membership at the 2007 Commonwealth Heads of Government Meeting . New members were not admitted at this meeting , though applications for admission were considered at the 2009 CHOGM . </P> <P> New members must `` as a general rule '' have a direct constitutional link to an existing member . In most cases , this is due to being a former colony of the United Kingdom , but some have links to other countries , either exclusively or more directly ( e.g. Samoa to New Zealand , Papua New Guinea to Australia , and Namibia to South Africa ) . The first member to be admitted without having any constitutional link to the British Empire or a Commonwealth member was Mozambique , a former Portuguese colony , in 1995 following its first democratic elections and South Africa 's re-admission in 1994 . Mozambique 's controversial entry led to the Edinburgh Declaration and the current membership guidelines . In 2009 , Rwanda became the second Commonwealth member admitted not to have any such constitutional links . It was a Belgian trust territory that had been a German colony until World War I. Consideration for its admission was considered an `` exceptional circumstance '' by the Commonwealth Secretariat . </P> <H3> Members ( edit ) </H3> Main article : Member states of the Commonwealth of Nations Flags of the members of the Commonwealth in Parliament Square , London The Commonwealth flag flying at the Parliament of Canada in Ottawa <P> The Commonwealth comprises 52 countries , across all continents . The members have a combined population of 2.3 billion people , almost a third of the world population , of which 1.26 billion live in India and 94 % live in Asia and Africa combined . After India , the next - largest Commonwealth countries by population are Pakistan ( 180 million ) , Nigeria ( 170 million ) , Bangladesh ( 156 million ) , the United Kingdom ( 63 million ) and South Africa ( 52 million ) . Tuvalu is the smallest member , with about 10,000 people . </P> <P> The land area of the Commonwealth nations is about 31,500,000 km ( 12,200,000 sq mi ) , or about 21 % of the total world land area . The three largest Commonwealth nations by area are Canada at 9,984,670 km ( 3,855,100 sq mi ) , Australia at 7,617,930 km ( 2,941,300 sq mi ) , and India at 3,287,263 km ( 1,269,219 sq mi ) . In 2016 , the Commonwealth members had a combined gross domestic product of over $9 trillion , 78 % of which is accounted for by the four largest economies : United Kingdom ( $2.629 trillion ) , India ( $2.256 trillion ) , Canada ( $1.529 trillion ) , and Australia ( $1.258 trillion ) . </P> <P> The status of `` Member in Arrears '' is used to denote those that are in arrears in paying subscription dues . The status was originally known as `` special membership '' , but was renamed on the Committee on Commonwealth Membership 's recommendation . There are currently no Members in Arrears . The most recent Member in Arrears , Nauru , returned to full membership in June 2011 . Nauru has alternated between special and full membership since joining the Commonwealth , depending on its financial situation . </P> <H3> Applicants ( edit ) </H3> See also : Commonwealth of Nations membership criteria § Prospective members <P> In 1997 the Commonwealth Heads of Government agreed that , to become a member of the Commonwealth , an applicant country should , as a rule , have had a constitutional association with an existing Commonwealth member ; that it should comply with Commonwealth values , principles and priorities as set out in the Harare Declaration ; and that it should accept Commonwealth norms and conventions . </P> <P> South Sudan ( 2013 ) and The Gambia ( 2017 ) are the only countries specifically expressing an interest in joining or rejoining the Commonwealth . A senior Commonwealth source argued in 2006 that `` many people have assumed an interest from Israel , but there has been no formal approach '' . The State of Palestine is also a potential candidate for membership . </P> <P> President Yahya Jammeh unilaterally withdrew The Gambia from the Commonwealth in October 2013 . However , newly elected president Adama Barrow has pledged to return the country to the organisation and the Commonwealth Secretariat has said that it would welcome an application to re-join . </P> <P> Other eligible applicants could be any of the remaining inhabited British overseas territories , Crown dependencies , Australian external territories and the Associated States of New Zealand if they become fully independent . Many such jurisdictions are already directly represented within the Commonwealth , particularly through the Commonwealth Family . There are also former British possessions that have not become independent , for example , Hong Kong , which still participates in some of the institutions within the Commonwealth Family . All three Crown dependencies regard the existing situation as unsatisfactory and have lobbied for change . The States of Jersey have called on the UK Foreign Secretary to request that the Commonwealth Heads of Government `` consider granting associate membership to Jersey and the other Crown Dependencies as well as any other territories at a similarly advanced stage of autonomy '' . Jersey has proposed that it be accorded `` self - representation in all Commonwealth meetings ; full participation in debates and procedures , with a right to speak where relevant and the opportunity to enter into discussions with those who are full members ; and no right to vote in the Ministerial or Heads of Government meetings , which is reserved for full members '' . The States of Guernsey and the Government of the Isle of Man have made calls of a similar nature for a more integrated relationship with the Commonwealth , including more direct representation and enhanced participation in Commonwealth organisations and meetings , including Commonwealth Heads of Government Meetings . The Chief Minister of the Isle of Man has said : `` A closer connection with the Commonwealth itself would be a welcome further development of the Island 's international relationships '' . </P> <P> At the time of the Suez Crisis in 1956 , in the face of colonial unrest and international tensions , French Premier Guy Mollet proposed to British Prime Minister Anthony Eden that their two countries be joined in a `` union '' . When that proposal was turned down , Mollet suggested that France joined the Commonwealth , possibly with `` a common citizenship arrangement on the Irish basis . '' Talks regarding a form of union faded away with the end of the Suez crisis . </P> <H3> Suspension ( edit ) </H3> Main article : Suspension from the Commonwealth of Nations <P> In recent years , the Commonwealth has suspended several members `` from the Councils of the Commonwealth '' for `` serious or persistent violations '' of the Harare Declaration , particularly in abrogating their responsibility to have democratic government . This is done by the Commonwealth Ministerial Action Group ( CMAG ) , which meets regularly to address potential breaches of the Harare Declaration . Suspended members are not represented at meetings of Commonwealth leaders and ministers , although they remain members of the organisation . Currently , there are no suspended members . </P> <P> Nigeria was suspended between 11 November 1995 and 29 May 1999 , following its execution of Ken Saro - Wiwa on the eve of the 1995 CHOGM . Pakistan was the second country to be suspended , on 18 October 1999 , following the military coup by Pervez Musharraf . The Commonwealth 's longest suspension came to an end on 22 May 2004 , when Pakistan 's suspension was lifted following the restoration of the country 's constitution . Pakistan was suspended for a second time , far more briefly , for six months from 22 November 2007 , when Musharraf called a state of emergency . Zimbabwe was suspended in 2002 over concerns regarding the electoral and land reform policies of Robert Mugabe 's ZANU - PF government , before it withdrew from the organisation in 2003 . </P> <P> The declaration of a Republic in Fiji in 1987 , after military coups designed to deny Indo - Fijians political power , was not accompanied by an application to remain . Commonwealth membership was held to have lapsed until 1997 , after discriminatory provisions in the republican constitution were repealed and reapplication for membership made . Fiji has since been suspended twice , with the first imposed from 6 June 2000 to 20 December 2001 after another coup . Fiji was suspended yet again in December 2006 , following the most recent coup . At first , the suspension applied only to membership on the Councils of the Commonwealth . After failing to meet a Commonwealth deadline for setting a date for national elections by 2010 , Fiji was `` fully suspended '' on 1 September 2009 . The Secretary - General of the Commonwealth , Kamalesh Sharma , confirmed that full suspension meant that Fiji would be excluded from Commonwealth meetings , sporting events and the technical assistance programme ( with an exception for assistance in re-establishing democracy ) . Sharma stated that Fiji would remain a member of the Commonwealth during its suspension , but would be excluded from emblematic representation by the secretariat . On 19 March 2014 Fiji 's full suspension was amended to a suspension from councils of the Commonwealth by the Commonwealth Ministerial Action Group , permitting Fiji to join a number of Commonwealth activities , including the Commonwealth Games . Fiji 's suspension was lifted in September 2014 . The Commonwealth Ministerial Action Group fully reinstated Fiji as a member following elections in September 2014 . </P> <P> Most recently , during 2013 and 2014 , international pressure mounted to suspend Sri Lanka from the Commonwealth , citing grave human rights violations by the government of President Mahinda Rajapaksa . There were also calls to change the Commonwealth Heads of Government Meeting 2013 from Sri Lanka to another member country . Canadian prime minister Stephen Harper threatened to boycott the event , but was instead represented at the meeting by Deepak Obhrai . The UK Foreign Affairs Committee called upon Prime Minister David Cameron to boycott the event , however , he chose to attend . These concerns were rendered moot by the election of opposition leader Maithripala Sirisena as President in 2015 . </P> <H3> Termination ( edit ) </H3> <P> As membership is purely voluntary , member governments can choose at any time to leave the Commonwealth . Pakistan left on 30 January 1972 in protest at the Commonwealth 's recognition of breakaway Bangladesh , but rejoined on 2 August 1989 . Zimbabwe 's membership was suspended in 2002 on the grounds of alleged human rights violations and deliberate misgovernment , and Zimbabwe 's government terminated its membership in 2003 . The Gambia left the Commonwealth on 3 October 2013 . The Maldives withdrew from the Commonwealth on 13 October 2016 . The Maldivian Ministry of Foreign Affairs stated that `` the Commonwealth has not recognised ( ... ) the progress and achievements that the Maldives accomplished in cultivating a culture of democracy in the country and in building and strengthening democratic institutions '' . The Ministry also cited the Commonwealth 's `` punitive actions against the Maldives since 2012 '' after the allegedly forced resignation of Maldivian President Mohamed Nasheed among the reasons for withdrawal . The Ministry characterized the decision to withdraw as `` difficult , but inevitable '' . </P> <P> Although heads of government have the power to suspend member states from active participation , the Commonwealth has no provision for the expulsion of members . Until 2007 , Commonwealth realms that became republics automatically ceased to be members , until ( like India in 1950 ) they obtained the permission of other members to remain in the organisation . This policy has been changed , so if any current Commonwealth realms were to become republics , they would not have to go through this process . </P> <P> Ireland had withdrawn its participation in the Commonwealth in the 1930s , attending its last Commonwealth governmental heads ' meeting in 1932 . However it continued to be regarded by the Commonwealth as a Commonwealth member until it declared itself a republic , on 18 April 1949 . It is the only country whose membership terminated without any declaration withdrawing from the organisation . Instead , it was ( with its own tacit support ) excluded from the organisation under the rules then applicable . </P> <P> South Africa was barred from continuing as a member after it became a republic in 1961 , due to hostility from many members , particularly those in Africa and Asia as well as Canada , to its policy of racial apartheid . The South African government withdrew its application to remain in the organisation as a republic when it became clear at the 1961 Commonwealth Prime Ministers ' Conference that any such application would be rejected . South Africa was re-admitted to the Commonwealth in 1994 , following its first multiracial elections that year . </P> <div style=\"background-color:#603F83FF; padding:5px\"><font color=\"#fff\"><P> The transfer of sovereignty over Hong Kong in 1997 ended the colony 's ties to the Commonwealth through the United Kingdom . The government of Hong Kong , as a special administrative region of China , did not pursue membership . Hong Kong has nevertheless continued to participate in some of the organisations of the Commonwealth family , such as the Commonwealth Lawyers Association ( hosted the Commonwealth Lawyers Conference in 1983 and 2009 ) , the Commonwealth Parliamentary Association ( and the Westminster Seminar on Parliamentary Practice and Procedures ) , the Association of Commonwealth Universities and the Commonwealth Association of Legislative Counsel . </P></font></div> <H2> Politics ( edit ) </H2> <H3> Objectives and activities ( edit ) </H3> <P> The Commonwealth 's objectives were first outlined in the 1971 Singapore Declaration , which committed the Commonwealth to the institution of world peace ; promotion of representative democracy and individual liberty ; the pursuit of equality and opposition to racism ; the fight against poverty , ignorance , and disease ; and free trade . To these were added opposition to discrimination on the basis of gender by the Lusaka Declaration of 1979 , and environmental sustainability by the Langkawi Declaration of 1989 . These objectives were reinforced by the Harare Declaration in 1991 . </P> <P> The Commonwealth 's current highest - priority aims are on the promotion of democracy and development , as outlined in the 2003 Aso Rock Declaration , which built on those in Singapore and Harare and clarified their terms of reference , stating , `` We are committed to democracy , good governance , human rights , gender equality , and a more equitable sharing of the benefits of globalisation . '' The Commonwealth website lists its areas of work as : democracy , economics , </div>"
      ],
      "text/plain": [
       "<IPython.core.display.HTML object>"
      ]
     },
     "metadata": {},
     "output_type": "display_data"
    }
   ],
   "source": [
    "show_example(3817861884803470204)"
   ]
  },
  {
   "cell_type": "markdown",
   "metadata": {},
   "source": [
    "Example of YES"
   ]
  },
  {
   "cell_type": "code",
   "execution_count": 197,
   "metadata": {
    "ExecuteTime": {
     "end_time": "2019-11-01T09:03:34.720110Z",
     "start_time": "2019-11-01T09:03:34.711234Z"
    }
   },
   "outputs": [
    {
     "data": {
      "text/plain": [
       "[{'yes_no_answer': 'YES',\n",
       "  'long_answer': {'start_token': 1353,\n",
       "   'candidate_index': 15,\n",
       "   'end_token': 1376},\n",
       "  'short_answers': [],\n",
       "  'annotation_id': 15266883435030073863}]"
      ]
     },
     "execution_count": 197,
     "metadata": {},
     "output_type": "execute_result"
    }
   ],
   "source": [
    "df_train[df_train.example_id==5429746486027633157]['annotations'].iloc[0]"
   ]
  },
  {
   "cell_type": "code",
   "execution_count": 166,
   "metadata": {
    "ExecuteTime": {
     "end_time": "2019-10-31T17:51:51.459495Z",
     "start_time": "2019-10-31T17:51:51.447857Z"
    }
   },
   "outputs": [
    {
     "data": {
      "text/html": [
       "<div style=\"font-weight: bold;font-size: 20px;color:#00239CFF\">Example Id</div><br/><div>5429746486027633157</div><hr><div style=\"font-weight: bold;font-size: 20px;color:#00239CFF\">Question</div><br/><div>is the micrometer screw gauge used for measurement of inner diameter of tube ?</div><hr><div style=\"font-weight: bold;font-size: 20px;color:#00239CFF\">Document Text</div><br/><div>Micrometer - wikipedia <H1> Micrometer </H1> Jump to : navigation , search This article is about the measuring device . For the unit of length , see Micrometre . Modern micrometer with a reading of 1.639 mm ± 0.005 mm . Assuming no zero error , this is also the measurement . Outside , inside , and depth micrometers <P> A micrometer ( / maɪˈkrɒmɪtər / my - KROM - i - tər ) , sometimes known as a micrometer screw gauge , is a device incorporating a calibrated screw widely used for precise measurement of components in mechanical engineering and machining as well as most mechanical trades , along with other metrological instruments such as dial , vernier , and digital calipers . Micrometers are usually , but not always , in the form of calipers ( opposing ends joined by a frame ) , which is why micrometer caliper is another common name . In Newton 's second law of motion , he clearly stated that the solution to appropriating micrometer methods was to assume that the change in momentum is brought about by and external resultant force and this resultant force is proportional to the change in momentum which it constitutes . The spindle is a very accurately machined screw and the object to be measured is placed between the spindle and the anvil . The spindle is moved by turning the ratchet knob or thimble until the object to be measured is lightly touched by both the spindle and the anvil . </P> <P> Micrometers are also used in telescopes or microscopes to measure the apparent diameter of celestial bodies or microscopic objects . The micrometer used with a telescope was invented about 1638 by William Gascoigne , an English astronomer . </P> <P> Colloquially the word micrometer is often shortened to mike or mic ( / ˈmaɪk / MYKE ) . </P> <P> </P> <H2> Contents </H2> ( hide ) <Ul> <Li> 1 History of the device and its name </Li> <Li> 2 Types <Ul> <Li> 2.1 Basic types </Li> <Li> 2.2 Specialized types </Li> </Ul> </Li> <Li> 3 Operating principles </Li> <Li> 4 Parts </Li> <Li> 5 Reading <Ul> <Li> 5.1 Customary / Imperial system </Li> <Li> 5.2 Metric system </Li> <Li> 5.3 Vernier </Li> </Ul> </Li> <Li> 6 Torque repeatability via torque - limiting ratchets or sleeves </Li> <Li> 7 Calibration : testing and adjusting <Ul> <Li> 7.1 Zeroing </Li> <Li> 7.2 Testing </Li> <Li> 7.3 Adjustment </Li> </Ul> </Li> <Li> 8 See also </Li> <Li> 9 References <Ul> <Li> 9.1 Bibliography </Li> </Ul> </Li> <Li> 10 External links </Li> </Ul> <P> </P> <H2> History of the device and its name ( edit ) </H2> Gascoigne 's Micrometer as drawn by Robert Hooke <P> The word micrometer is a neoclassical coinage from Greek micros , meaning ' small ' , and metron , meaning ' measure ' . The Merriam - Webster Collegiate Dictionary says that English got it from French and that its first known appearance in English writing was in 1670 . Neither the metre nor the micrometre ( μm ) nor the micrometer ( device ) as we know them today existed at that time . However , the people of that time did have much need for , and interest in , the ability to measure small things and small differences . The word was no doubt coined in reference to this endeavor , even if it did not refer specifically to its present - day senses . </P> <P> The first ever micrometric screw was invented by William Gascoigne in the 17th century , as an enhancement of the vernier ; it was used in a telescope to measure angular distances between stars and the relative sizes of celestial objects . </P> <P> Henry Maudslay built a bench micrometer in the early 19th century that was jocularly nicknamed `` the Lord Chancellor '' among his staff because it was the final judge on measurement accuracy and precision in the firm 's work . In 1844 details of Whitworth 's workshop micrometer were published . This was described as having a strong frame of cast iron , the opposite ends of which were two highly finished steel cylinders , which traversed longitudinally by action of screws . The ends of the cylinders where they met was of hemispherical shape . One screw was fitted with a wheel graduated to measure to the ten thousandth of an inch . His object was to furnish ordinary mechanics with an instrument which , while it afforded very accurate indications , was yet not very liable to be deranged by the rough handling of the workshop . </P> <P> The first documented development of handheld micrometer - screw calipers was by Jean Laurent Palmer of Paris in 1848 ; the device is therefore often called palmer in French , tornillo de Palmer ( `` Palmer screw '' ) in Spanish , and calibro Palmer ( `` Palmer caliper '' ) in Italian . ( Those languages also use the micrometer cognates : micromètre , micrómetro , micrometro . ) The micrometer caliper was introduced to the mass market in anglophone countries by Brown & Sharpe in 1867 , allowing the penetration of the instrument 's use into the average machine shop . Brown & Sharpe were inspired by several earlier devices , one of them being Palmer 's design . In 1888 Edward W. Morley added to the precision of micrometric measurements and proved their accuracy in a complex series of experiments . </P> <P> The culture of toolroom accuracy and precision , which started with interchangeability pioneers including Gribeauval , Tousard , North , Hall , Whitney , and Colt , and continued through leaders such as Maudslay , Palmer , Whitworth , Brown , Sharpe , Pratt , Whitney , Leland , and others , grew during the Machine Age to become an important part of combining applied science with technology . Beginning in the early 20th century , one could no longer truly master tool and die making , machine tool building , or engineering without some knowledge of the science of metrology , as well as the sciences of chemistry and physics ( for metallurgy , kinematics / dynamics , and quality ) . </P> <H2> Types ( edit ) </H2> <H3> Basic types ( edit ) </H3> Large micrometer caliper . <H3> Specialized types ( edit ) </H3> Another large micrometer in use . <P> Each type of micrometer caliper can be fitted with specialized anvils and spindle tips for particular measuring tasks . For example , the anvil may be shaped in the form of a segment of screw thread , in the form of a v - block , or in the form of a large disc . </P> <Ul> <Li> Universal micrometer sets come with interchangeable anvils , such as flat , spherical , spline , disk , blade , point , and knife - edge . The term universal micrometer may also refer to a type of micrometer whose frame has modular components , allowing one micrometer to function as outside mic , depth mic , step mic , etc. ( often known by the brand names Mul - T - Anvil and Uni-Mike ) . </Li> <Li> Blade micrometers have a matching set of narrow tips ( blades ) . They allow , for exam ple , the m easuring of a narrow o - ring groove . </Li> <Li> Pitch - diameter micrometers ( aka thread mics ) have a matching set of thre </Li> <Li> Limit mics have two anvils and two spindles , and are used like a snap gauge . The part being checked must pass through the first gap and must stop at the second gap in order to be within specification . The two gaps accurately reflect the top and bottom of th e tolerance range . </Li> <Li> Bore micrometer , typically a three - anvil head on a micrometer base used to accurately measure inside diameters . </Li> <div style=\"background-color:#603F83FF; padding:5px\"><font color=\"#fff\"><Li> Tube micrometers have a cylindrical anvil positioned perpendicularly to a spindle and is used to measure the thickness of tubes . </Li></font></div> <Li> Micrometer stops are micrometer heads that are mounted on the table of a manual milling machine , bedways of a lathe , or other machine tool , in place of simple stops . They help the operator to position the table or carriage precisely . Stops can also be used to actuate kickout mechanisms or limit switches to halt an automatic feed system . </Li> <Li> Ball micrometers have ball - shaped ( spherical ) anvils . They may have one flat and one ball anvil , in which case they are used for measuring tube wall thickness , distance of a hole to an edge , and other distances where one anvil must be placed against a rounded surface . They differ in application from tube micrometers in that they may be used to measure against rounded surfaces which are not tubes , but the ball anvil may also not be able to fit into smaller tubes as easily as a tube micrometer . Ball micrometers with a pair of balls can be used when single - tangential - point contact is desired on both sides . The most common example is in measuring the </div>"
      ],
      "text/plain": [
       "<IPython.core.display.HTML object>"
      ]
     },
     "metadata": {},
     "output_type": "display_data"
    }
   ],
   "source": [
    "show_example(5429746486027633157)"
   ]
  },
  {
   "cell_type": "markdown",
   "metadata": {},
   "source": [
    "### Long answer labels"
   ]
  },
  {
   "cell_type": "markdown",
   "metadata": {},
   "source": [
    "Description of start token labels:"
   ]
  },
  {
   "cell_type": "code",
   "execution_count": 73,
   "metadata": {
    "ExecuteTime": {
     "end_time": "2019-10-31T07:24:11.011875Z",
     "start_time": "2019-10-31T07:24:10.996740Z"
    }
   },
   "outputs": [
    {
     "data": {
      "text/plain": [
       "count    307373.000000\n",
       "mean        532.571589\n",
       "std        1600.149053\n",
       "min          -1.000000\n",
       "25%          -1.000000\n",
       "50%          -1.000000\n",
       "75%         367.000000\n",
       "max       87343.000000\n",
       "dtype: float64"
      ]
     },
     "execution_count": 73,
     "metadata": {},
     "output_type": "execute_result"
    }
   ],
   "source": [
    "pd.Series(t_long_train[:,0]).describe()"
   ]
  },
  {
   "cell_type": "markdown",
   "metadata": {},
   "source": [
    "Desciption of end token labels:"
   ]
  },
  {
   "cell_type": "code",
   "execution_count": 74,
   "metadata": {
    "ExecuteTime": {
     "end_time": "2019-10-31T07:24:11.027643Z",
     "start_time": "2019-10-31T07:24:11.012861Z"
    }
   },
   "outputs": [
    {
     "data": {
      "text/plain": [
       "count    307373.000000\n",
       "mean        722.793020\n",
       "std        2041.141321\n",
       "min          -1.000000\n",
       "25%          -1.000000\n",
       "50%          -1.000000\n",
       "75%         535.000000\n",
       "max      123780.000000\n",
       "dtype: float64"
      ]
     },
     "execution_count": 74,
     "metadata": {},
     "output_type": "execute_result"
    }
   ],
   "source": [
    "pd.Series(t_long_train[:,1]).describe()"
   ]
  },
  {
   "cell_type": "markdown",
   "metadata": {},
   "source": [
    "We can see below that nearly half of the long answers have start/end token -1.  \n",
    "In other words, there are a considerable number of '**NO ANSWERS**' in long answer labels, not only in yes-no labels:"
   ]
  },
  {
   "cell_type": "code",
   "execution_count": 75,
   "metadata": {
    "ExecuteTime": {
     "end_time": "2019-10-31T07:24:11.032843Z",
     "start_time": "2019-10-31T07:24:11.028668Z"
    }
   },
   "outputs": [
    {
     "name": "stdout",
     "output_type": "stream",
     "text": [
      "50.5% of start tokens are -1.\n",
      "50.5% of end tokens are -1.\n"
     ]
    }
   ],
   "source": [
    "print('{0:.1f}% of start tokens are -1.'.format(np.sum(t_long_train[:,0] < 0) / N_TRAIN * 100))\n",
    "print('{0:.1f}% of end tokens are -1.'.format(np.sum(t_long_train[:,1] < 0) / N_TRAIN * 100))"
   ]
  },
  {
   "cell_type": "markdown",
   "metadata": {},
   "source": [
    "**If the start token is -1, the corresponding end token is also -1**:"
   ]
  },
  {
   "cell_type": "code",
   "execution_count": 76,
   "metadata": {
    "ExecuteTime": {
     "end_time": "2019-10-31T07:24:11.037334Z",
     "start_time": "2019-10-31T07:24:11.033791Z"
    }
   },
   "outputs": [
    {
     "data": {
      "text/plain": [
       "0"
      ]
     },
     "execution_count": 76,
     "metadata": {},
     "output_type": "execute_result"
    }
   ],
   "source": [
    "np.sum(t_long_train[:,0] * t_long_train[:,1] < 0)"
   ]
  },
  {
   "cell_type": "markdown",
   "metadata": {},
   "source": [
    "The heatmap below tells us that:\n",
    "- when the start token and/or the end token are -1, yes-no answer is 'NONE'\n",
    "- yes-no answer 'NONE' does not always mean that the start token and/or the end token are -1"
   ]
  },
  {
   "cell_type": "code",
   "execution_count": 77,
   "metadata": {
    "ExecuteTime": {
     "end_time": "2019-10-31T07:24:11.177710Z",
     "start_time": "2019-10-31T07:24:11.038310Z"
    }
   },
   "outputs": [],
   "source": [
    "# no_answer_state[1,:] is the number of train data whose start token and end token are -1\n",
    "# no_answer_state[:,1] is the number of train data whose yes-no answer is 'NONE'\n",
    "\n",
    "no_answer_state = np.zeros((2,2))\n",
    "no_answer_state[1,1] = np.sum((t_long_train[:,0]==-1) * (np.array([ 1 if t=='NONE' else 0 for t in t_yesno_train ])))\n",
    "no_answer_state[1,0] = np.sum((t_long_train[:,0]==-1) * (np.array([ 0 if t=='NONE' else 1 for t in t_yesno_train ])))\n",
    "no_answer_state[0,1] = np.sum((t_long_train[:,0]>=0) * (np.array([ 1 if t=='NONE' else 0 for t in t_yesno_train ])))\n",
    "no_answer_state[0,0] = np.sum((t_long_train[:,0]>=0) * (np.array([ 0 if t=='NONE' else 1 for t in t_yesno_train ])))                             "
   ]
  },
  {
   "cell_type": "code",
   "execution_count": 78,
   "metadata": {
    "ExecuteTime": {
     "end_time": "2019-10-31T07:24:11.181876Z",
     "start_time": "2019-10-31T07:24:11.178832Z"
    }
   },
   "outputs": [
    {
     "data": {
      "text/plain": [
       "array([[  3798., 148350.],\n",
       "       [     0., 155225.]])"
      ]
     },
     "execution_count": 78,
     "metadata": {},
     "output_type": "execute_result"
    }
   ],
   "source": [
    "no_answer_state"
   ]
  },
  {
   "cell_type": "code",
   "execution_count": 198,
   "metadata": {
    "ExecuteTime": {
     "end_time": "2019-11-02T10:32:09.051459Z",
     "start_time": "2019-11-02T10:32:08.859121Z"
    }
   },
   "outputs": [
    {
     "data": {
      "text/plain": [
       "<matplotlib.axes._subplots.AxesSubplot at 0x7f50469713d0>"
      ]
     },
     "execution_count": 198,
     "metadata": {},
     "output_type": "execute_result"
    },
    {
     "data": {
      "image/png": "[encoded data removed]",
      "text/plain": [
       "<Figure size 921.6x633.6 with 2 Axes>"
      ]
     },
     "metadata": {},
     "output_type": "display_data"
    }
   ],
   "source": [
    "sns.heatmap(no_answer_state / N_TRAIN, annot=True, annot_kws={\"size\": 25}, fmt='.3f', vmin=0, vmax=1, cmap='Blues_r')"
   ]
  },
  {
   "cell_type": "markdown",
   "metadata": {},
   "source": [
    "## Text Word Counts"
   ]
  },
  {
   "cell_type": "markdown",
   "metadata": {},
   "source": [
    "Let us look into word counts of question texts & document texts."
   ]
  },
  {
   "cell_type": "markdown",
   "metadata": {},
   "source": [
    "### Obtain data"
   ]
  },
  {
   "cell_type": "code",
   "execution_count": 169,
   "metadata": {
    "ExecuteTime": {
     "end_time": "2019-11-01T08:45:23.495348Z",
     "start_time": "2019-11-01T08:45:23.490055Z"
    }
   },
   "outputs": [],
   "source": [
    "q_lens_train = np.zeros(N_TRAIN)\n",
    "d_lens_train = np.zeros(N_TRAIN)"
   ]
  },
  {
   "cell_type": "code",
   "execution_count": 170,
   "metadata": {
    "ExecuteTime": {
     "end_time": "2019-11-01T08:49:15.650873Z",
     "start_time": "2019-11-01T08:45:24.201526Z"
    }
   },
   "outputs": [
    {
     "data": {
      "application/vnd.jupyter.widget-view+json": {
       "model_id": "072bdb9972b74b01a35a2a5517b0a485",
       "version_major": 2,
       "version_minor": 0
      },
      "text/plain": [
       "HBox(children=(IntProgress(value=0, max=307373), HTML(value='')))"
      ]
     },
     "metadata": {},
     "output_type": "display_data"
    },
    {
     "name": "stdout",
     "output_type": "stream",
     "text": [
      "\n"
     ]
    }
   ],
   "source": [
    "with open(PATH_TRAIN, 'rt') as f:\n",
    "    for i in tqdm(range(N_TRAIN)):\n",
    "        dic = json.loads(f.readline())\n",
    "        q_lens_train[i] = len(dic['question_text'].split())\n",
    "        d_lens_train[i] = len(dic['document_text'].split())"
   ]
  },
  {
   "cell_type": "code",
   "execution_count": 171,
   "metadata": {
    "ExecuteTime": {
     "end_time": "2019-11-01T08:49:15.655209Z",
     "start_time": "2019-11-01T08:49:15.652511Z"
    }
   },
   "outputs": [],
   "source": [
    "q_lens_test = np.zeros(N_TEST)\n",
    "d_lens_test = np.zeros(N_TEST)"
   ]
  },
  {
   "cell_type": "code",
   "execution_count": 172,
   "metadata": {
    "ExecuteTime": {
     "end_time": "2019-11-01T08:49:15.971968Z",
     "start_time": "2019-11-01T08:49:15.656908Z"
    }
   },
   "outputs": [
    {
     "data": {
      "application/vnd.jupyter.widget-view+json": {
       "model_id": "d6bbbdf1f17f453fb17e42b7ef7ba66d",
       "version_major": 2,
       "version_minor": 0
      },
      "text/plain": [
       "HBox(children=(IntProgress(value=0, max=345), HTML(value='')))"
      ]
     },
     "metadata": {},
     "output_type": "display_data"
    },
    {
     "name": "stdout",
     "output_type": "stream",
     "text": [
      "\n"
     ]
    }
   ],
   "source": [
    "with open(PATH_TEST, 'rt') as f:\n",
    "    for i in tqdm(range(N_TEST)):\n",
    "        dic = json.loads(f.readline())\n",
    "        q_lens_test[i] = len(dic['question_text'].split())\n",
    "        d_lens_test[i] = len(dic['document_text'].split())"
   ]
  },
  {
   "cell_type": "markdown",
   "metadata": {},
   "source": [
    "### Visualization"
   ]
  },
  {
   "cell_type": "markdown",
   "metadata": {},
   "source": [
    "#### Word counts of question text"
   ]
  },
  {
   "cell_type": "markdown",
   "metadata": {},
   "source": [
    "Words counts of question text range in [0, 30]"
   ]
  },
  {
   "cell_type": "code",
   "execution_count": 173,
   "metadata": {
    "ExecuteTime": {
     "end_time": "2019-11-01T08:49:16.242188Z",
     "start_time": "2019-11-01T08:49:15.973499Z"
    }
   },
   "outputs": [
    {
     "data": {
      "text/plain": [
       "<matplotlib.legend.Legend at 0x7f5381035e90>"
      ]
     },
     "execution_count": 173,
     "metadata": {},
     "output_type": "execute_result"
    },
    {
     "data": {
      "image/png": "[encoded data removed]",
      "text/plain": [
       "<Figure size 921.6x633.6 with 1 Axes>"
      ]
     },
     "metadata": {},
     "output_type": "display_data"
    }
   ],
   "source": [
    "plt.hist(q_lens_train, density=True, bins=8, alpha=0.5, color='c', label='train')\n",
    "plt.hist(q_lens_test, density=True, bins=8, alpha=0.5, color='orange', label='test')\n",
    "plt.xlabel('question length')\n",
    "plt.ylabel('sample proportion')\n",
    "plt.legend()"
   ]
  },
  {
   "cell_type": "markdown",
   "metadata": {},
   "source": [
    "#### Word counts of document text"
   ]
  },
  {
   "cell_type": "markdown",
   "metadata": {
    "ExecuteTime": {
     "end_time": "2019-11-01T08:53:31.874653Z",
     "start_time": "2019-11-01T08:53:31.871020Z"
    }
   },
   "source": [
    "Words counts of d document text range in [0, 120000]"
   ]
  },
  {
   "cell_type": "code",
   "execution_count": 174,
   "metadata": {
    "ExecuteTime": {
     "end_time": "2019-11-01T08:49:16.751233Z",
     "start_time": "2019-11-01T08:49:16.243485Z"
    }
   },
   "outputs": [
    {
     "data": {
      "text/plain": [
       "<matplotlib.legend.Legend at 0x7f504c6caf90>"
      ]
     },
     "execution_count": 174,
     "metadata": {},
     "output_type": "execute_result"
    },
    {
     "data": {
      "image/png": "[encoded data removed]",
      "text/plain": [
       "<Figure size 921.6x633.6 with 1 Axes>"
      ]
     },
     "metadata": {},
     "output_type": "display_data"
    }
   ],
   "source": [
    "plt.hist(d_lens_train, density=True, bins=64, alpha=0.5, color='c', label='train')\n",
    "plt.hist(d_lens_test, density=True, bins=64, alpha=0.5, color='orange', label='test')\n",
    "plt.xlabel('document length')\n",
    "plt.ylabel('sample proportion')\n",
    "plt.legend()"
   ]
  },
  {
   "cell_type": "code",
   "execution_count": null,
   "metadata": {},
   "outputs": [],
   "source": []
  }
 ],
 "metadata": {
  "kernelspec": {
   "display_name": "Python 3",
   "language": "python",
   "name": "python3"
  },
  "language_info": {
   "codemirror_mode": {
    "name": "ipython",
    "version": 3
   },
   "file_extension": ".py",
   "mimetype": "text/x-python",
   "name": "python",
   "nbconvert_exporter": "python",
   "pygments_lexer": "ipython3",
   "version": "3.7.4"
  },
  "toc": {
   "base_numbering": 1,
   "nav_menu": {
    "height": "209px",
    "width": "413px"
   },
   "number_sections": true,
   "sideBar": true,
   "skip_h1_title": false,
   "title_cell": "Table of Contents",
   "title_sidebar": "Contents",
   "toc_cell": false,
   "toc_position": {
    "height": "357px",
    "left": "158px",
    "top": "141.133px",
    "width": "243.391px"
   },
   "toc_section_display": true,
   "toc_window_display": false
  }
 },
 "nbformat": 4,
 "nbformat_minor": 1
}
