{
 "cells": [
  {
   "cell_type": "markdown",
   "metadata": {
    "ExecuteTime": {
     "end_time": "2019-11-01T08:53:55.208788Z",
     "start_time": "2019-11-01T08:53:55.205524Z"
    }
   },
   "source": [
    "# Abstract\n",
    "- Data Understanding\n",
    "    - A long answer would be a longer section of text that answers the question - several sentences or a paragraph.\n",
    "    - A short answer might be a sentence or phrase, or even in some cases a YES/NO.\n",
    "    - The short answers are always contained within / a subset of one of the plausible long answers. \n",
    "    - A given article can (and very often will) allow for both long and short answers, depending on the question.\n",
    "- Data Statistics\n",
    "    - training data contains 307,373 examples. 152,148 have a long answer and 110,724 have a short answer.\n",
    "- Number of Long Answer Candidate\n",
    "    - Some of data for long answers are swamped with a lot of candidates (7946 in maximum!)\n",
    "    - n_long_candidates_train is long-tail distribution, range in [1, 7946]\n",
    "    - n_long_candidates_train and n_long_candidates_test have similar distribution\n",
    "- Short answer\n",
    "    - Short answers can be sets of spans in the document (106,926), or yes or no (3,798).\n",
    "    - 63.47% 'NO ANSWERS' in short answer labels\n",
    "    - one question can have multiple short answers within same long anwser\n",
    "    - when yes-no answer is not 'None' (i.e. yes or no), short answer always be empty\n",
    "- Yes-no Answer\n",
    "    - significant class imbalance in yes-no answer labels, 98% answer is 'None'.\n",
    "- Long Answer\n",
    "    - long answer can either be 0（denoted by 'start_token': -1）or 1 \n",
    "    - long answer must be selected from long_answer_candidates\n",
    "    - 50.5% of 'NO ANSWERS' in long answer labels\n",
    "    - when the start token and/or the end token are -1, yes-no answer is 'NONE'\n",
    "    - yes-no answer 'NONE' does not always mean that the start token and/or the end token are -1\n",
    "    - About 95% long answer's top_level is true\n",
    "- Text Word Counts\n",
    "    - Words counts of question text range in [0, 30]\n",
    "    - Words counts of d document text range in [0, 120000]\n",
    "    - Words counts of short answers text is long-tail distribution, range in [1, 250]\n",
    "    - Words counts of long answers text is long-tail distribution, range in [5, 123548]"
   ]
  },
  {
   "cell_type": "markdown",
   "metadata": {},
   "source": [
    "# Preparation"
   ]
  },
  {
   "cell_type": "code",
   "execution_count": 15,
   "metadata": {
    "ExecuteTime": {
     "end_time": "2019-12-30T14:39:26.120417Z",
     "start_time": "2019-12-30T14:39:26.114391Z"
    },
    "_cell_guid": "b1076dfc-b9ad-4769-8c92-a6c4dae69d19",
    "_uuid": "8f2839f25d086af736a60e9eeb907d3b93b6e0e5"
   },
   "outputs": [],
   "source": [
    "import numpy as np\n",
    "import pandas as pd\n",
    "import json\n",
    "import matplotlib.pyplot as plt\n",
    "import seaborn as sns\n",
    "\n",
    "from tqdm import tqdm\n",
    "from IPython.core.display import HTML"
   ]
  },
  {
   "cell_type": "code",
   "execution_count": 16,
   "metadata": {
    "ExecuteTime": {
     "end_time": "2019-12-30T14:39:26.127051Z",
     "start_time": "2019-12-30T14:39:26.123613Z"
    }
   },
   "outputs": [],
   "source": [
    "DIR = '../input/tensorflow2-question-answering/'\n",
    "PATH_TRAIN = DIR + 'simplified-nq-train.jsonl'\n",
    "PATH_TEST = DIR + 'simplified-nq-test.jsonl'"
   ]
  },
  {
   "cell_type": "markdown",
   "metadata": {},
   "source": [
    "## Number of samples in train & test dataset"
   ]
  },
  {
   "cell_type": "code",
   "execution_count": 17,
   "metadata": {
    "ExecuteTime": {
     "end_time": "2019-12-30T14:39:31.549692Z",
     "start_time": "2019-12-30T14:39:26.134065Z"
    }
   },
   "outputs": [
    {
     "name": "stdout",
     "output_type": "stream",
     "text": [
      "307373 ../input/tensorflow2-question-answering/simplified-nq-train.jsonl\n",
      "345 ../input/tensorflow2-question-answering/simplified-nq-test.jsonl\n"
     ]
    }
   ],
   "source": [
    "!wc -l '../input/tensorflow2-question-answering/simplified-nq-train.jsonl'\n",
    "!wc -l '../input/tensorflow2-question-answering/simplified-nq-test.jsonl'"
   ]
  },
  {
   "cell_type": "markdown",
   "metadata": {},
   "source": [
    "# Load .jsonl file iteratively"
   ]
  },
  {
   "cell_type": "markdown",
   "metadata": {},
   "source": [
    "As we know, one of the most common way to convert .jsonl file into pd.DataFrame is  `pd.read_json(FILENAME, orient='records', lines=True)`:"
   ]
  },
  {
   "cell_type": "code",
   "execution_count": 18,
   "metadata": {
    "ExecuteTime": {
     "end_time": "2019-12-30T14:39:31.766379Z",
     "start_time": "2019-12-30T14:39:31.553079Z"
    }
   },
   "outputs": [
    {
     "data": {
      "text/html": [
       "<div>\n",
       "<style scoped>\n",
       "    .dataframe tbody tr th:only-of-type {\n",
       "        vertical-align: middle;\n",
       "    }\n",
       "\n",
       "    .dataframe tbody tr th {\n",
       "        vertical-align: top;\n",
       "    }\n",
       "\n",
       "    .dataframe thead th {\n",
       "        text-align: right;\n",
       "    }\n",
       "</style>\n",
       "<table border=\"1\" class=\"dataframe\">\n",
       "  <thead>\n",
       "    <tr style=\"text-align: right;\">\n",
       "      <th></th>\n",
       "      <th>example_id</th>\n",
       "      <th>question_text</th>\n",
       "      <th>document_text</th>\n",
       "      <th>long_answer_candidates</th>\n",
       "    </tr>\n",
       "  </thead>\n",
       "  <tbody>\n",
       "    <tr>\n",
       "      <th>0</th>\n",
       "      <td>-1220107454853145600</td>\n",
       "      <td>who is the south african high commissioner in ...</td>\n",
       "      <td>High Commission of South Africa , London - wik...</td>\n",
       "      <td>[{'end_token': 136, 'start_token': 18, 'top_le...</td>\n",
       "    </tr>\n",
       "    <tr>\n",
       "      <th>1</th>\n",
       "      <td>8777415633185303552</td>\n",
       "      <td>the office episode when they sing to michael</td>\n",
       "      <td>Michael 's Last Dundies - wikipedia &lt;H1&gt; Micha...</td>\n",
       "      <td>[{'end_token': 190, 'start_token': 23, 'top_le...</td>\n",
       "    </tr>\n",
       "    <tr>\n",
       "      <th>2</th>\n",
       "      <td>4640548859154538496</td>\n",
       "      <td>what is the main idea of the cross of gold speech</td>\n",
       "      <td>Cross of gold speech - wikipedia &lt;H1&gt; Cross of...</td>\n",
       "      <td>[{'end_token': 165, 'start_token': 12, 'top_le...</td>\n",
       "    </tr>\n",
       "    <tr>\n",
       "      <th>3</th>\n",
       "      <td>-5316095317154496512</td>\n",
       "      <td>when was i want to sing in opera written</td>\n",
       "      <td>Wilkie Bard - wikipedia &lt;H1&gt; Wilkie Bard &lt;/H1&gt;...</td>\n",
       "      <td>[{'end_token': 105, 'start_token': 8, 'top_lev...</td>\n",
       "    </tr>\n",
       "    <tr>\n",
       "      <th>4</th>\n",
       "      <td>-8752372642178983936</td>\n",
       "      <td>who does the voices in ice age collision course</td>\n",
       "      <td>Ice Age : Collision Course - Wikipedia &lt;H1&gt; Ic...</td>\n",
       "      <td>[{'end_token': 287, 'start_token': 16, 'top_le...</td>\n",
       "    </tr>\n",
       "  </tbody>\n",
       "</table>\n",
       "</div>"
      ],
      "text/plain": [
       "            example_id                                      question_text  \\\n",
       "0 -1220107454853145600  who is the south african high commissioner in ...   \n",
       "1  8777415633185303552       the office episode when they sing to michael   \n",
       "2  4640548859154538496  what is the main idea of the cross of gold speech   \n",
       "3 -5316095317154496512           when was i want to sing in opera written   \n",
       "4 -8752372642178983936    who does the voices in ice age collision course   \n",
       "\n",
       "                                       document_text  \\\n",
       "0  High Commission of South Africa , London - wik...   \n",
       "1  Michael 's Last Dundies - wikipedia <H1> Micha...   \n",
       "2  Cross of gold speech - wikipedia <H1> Cross of...   \n",
       "3  Wilkie Bard - wikipedia <H1> Wilkie Bard </H1>...   \n",
       "4  Ice Age : Collision Course - Wikipedia <H1> Ic...   \n",
       "\n",
       "                              long_answer_candidates  \n",
       "0  [{'end_token': 136, 'start_token': 18, 'top_le...  \n",
       "1  [{'end_token': 190, 'start_token': 23, 'top_le...  \n",
       "2  [{'end_token': 165, 'start_token': 12, 'top_le...  \n",
       "3  [{'end_token': 105, 'start_token': 8, 'top_lev...  \n",
       "4  [{'end_token': 287, 'start_token': 16, 'top_le...  "
      ]
     },
     "execution_count": 18,
     "metadata": {},
     "output_type": "execute_result"
    }
   ],
   "source": [
    "df_test = pd.read_json(PATH_TEST, orient='records', lines=True)\n",
    "df_test.head()"
   ]
  },
  {
   "cell_type": "markdown",
   "metadata": {},
   "source": [
    "However, since we have a **HUGE train dataset** for this competition, Kaggle Notebook RAM cannot afford this method.\n",
    "Instead, we probablly have to load the train dataset iteratively:"
   ]
  },
  {
   "cell_type": "code",
   "execution_count": 19,
   "metadata": {
    "ExecuteTime": {
     "end_time": "2019-12-30T14:41:21.603921Z",
     "start_time": "2019-12-30T14:39:31.769204Z"
    }
   },
   "outputs": [
    {
     "name": "stderr",
     "output_type": "stream",
     "text": [
      "307373it [01:49, 2813.85it/s]\n"
     ]
    }
   ],
   "source": [
    "json_train = []\n",
    "\n",
    "with open(PATH_TRAIN, 'rt') as f:\n",
    "    for i in tqdm(f):\n",
    "        json_train.append(json.loads(i.strip()))"
   ]
  },
  {
   "cell_type": "code",
   "execution_count": 20,
   "metadata": {
    "ExecuteTime": {
     "end_time": "2019-12-30T14:41:23.061671Z",
     "start_time": "2019-12-30T14:41:21.605801Z"
    }
   },
   "outputs": [
    {
     "data": {
      "text/html": [
       "<div>\n",
       "<style scoped>\n",
       "    .dataframe tbody tr th:only-of-type {\n",
       "        vertical-align: middle;\n",
       "    }\n",
       "\n",
       "    .dataframe tbody tr th {\n",
       "        vertical-align: top;\n",
       "    }\n",
       "\n",
       "    .dataframe thead th {\n",
       "        text-align: right;\n",
       "    }\n",
       "</style>\n",
       "<table border=\"1\" class=\"dataframe\">\n",
       "  <thead>\n",
       "    <tr style=\"text-align: right;\">\n",
       "      <th></th>\n",
       "      <th>document_text</th>\n",
       "      <th>long_answer_candidates</th>\n",
       "      <th>question_text</th>\n",
       "      <th>annotations</th>\n",
       "      <th>document_url</th>\n",
       "      <th>example_id</th>\n",
       "    </tr>\n",
       "  </thead>\n",
       "  <tbody>\n",
       "    <tr>\n",
       "      <th>0</th>\n",
       "      <td>Email marketing - Wikipedia &lt;H1&gt; Email marketi...</td>\n",
       "      <td>[{'start_token': 14, 'top_level': True, 'end_t...</td>\n",
       "      <td>which is the most common use of opt-in e-mail ...</td>\n",
       "      <td>[{'yes_no_answer': 'NONE', 'long_answer': {'st...</td>\n",
       "      <td>https://en.wikipedia.org//w/index.php?title=Em...</td>\n",
       "      <td>5655493461695504401</td>\n",
       "    </tr>\n",
       "    <tr>\n",
       "      <th>1</th>\n",
       "      <td>The Mother ( How I Met Your Mother ) - wikiped...</td>\n",
       "      <td>[{'start_token': 28, 'top_level': True, 'end_t...</td>\n",
       "      <td>how i.met your mother who is the mother</td>\n",
       "      <td>[{'yes_no_answer': 'NONE', 'long_answer': {'st...</td>\n",
       "      <td>https://en.wikipedia.org//w/index.php?title=Th...</td>\n",
       "      <td>5328212470870865242</td>\n",
       "    </tr>\n",
       "    <tr>\n",
       "      <th>2</th>\n",
       "      <td>Human fertilization - wikipedia &lt;H1&gt; Human fer...</td>\n",
       "      <td>[{'start_token': 14, 'top_level': True, 'end_t...</td>\n",
       "      <td>what type of fertilisation takes place in humans</td>\n",
       "      <td>[{'yes_no_answer': 'NONE', 'long_answer': {'st...</td>\n",
       "      <td>https://en.wikipedia.org//w/index.php?title=Hu...</td>\n",
       "      <td>4435104480114867852</td>\n",
       "    </tr>\n",
       "    <tr>\n",
       "      <th>3</th>\n",
       "      <td>List of National Football League career quarte...</td>\n",
       "      <td>[{'start_token': 28, 'top_level': True, 'end_t...</td>\n",
       "      <td>who had the most wins in the nfl</td>\n",
       "      <td>[{'yes_no_answer': 'NONE', 'long_answer': {'st...</td>\n",
       "      <td>https://en.wikipedia.org//w/index.php?title=Li...</td>\n",
       "      <td>5289242154789678439</td>\n",
       "    </tr>\n",
       "    <tr>\n",
       "      <th>4</th>\n",
       "      <td>Roanoke Colony - wikipedia &lt;H1&gt; Roanoke Colony...</td>\n",
       "      <td>[{'start_token': 32, 'top_level': True, 'end_t...</td>\n",
       "      <td>what happened to the lost settlement of roanoke</td>\n",
       "      <td>[{'yes_no_answer': 'NONE', 'long_answer': {'st...</td>\n",
       "      <td>https://en.wikipedia.org//w/index.php?title=Ro...</td>\n",
       "      <td>5489863933082811018</td>\n",
       "    </tr>\n",
       "  </tbody>\n",
       "</table>\n",
       "</div>"
      ],
      "text/plain": [
       "                                       document_text  \\\n",
       "0  Email marketing - Wikipedia <H1> Email marketi...   \n",
       "1  The Mother ( How I Met Your Mother ) - wikiped...   \n",
       "2  Human fertilization - wikipedia <H1> Human fer...   \n",
       "3  List of National Football League career quarte...   \n",
       "4  Roanoke Colony - wikipedia <H1> Roanoke Colony...   \n",
       "\n",
       "                              long_answer_candidates  \\\n",
       "0  [{'start_token': 14, 'top_level': True, 'end_t...   \n",
       "1  [{'start_token': 28, 'top_level': True, 'end_t...   \n",
       "2  [{'start_token': 14, 'top_level': True, 'end_t...   \n",
       "3  [{'start_token': 28, 'top_level': True, 'end_t...   \n",
       "4  [{'start_token': 32, 'top_level': True, 'end_t...   \n",
       "\n",
       "                                       question_text  \\\n",
       "0  which is the most common use of opt-in e-mail ...   \n",
       "1            how i.met your mother who is the mother   \n",
       "2   what type of fertilisation takes place in humans   \n",
       "3                   who had the most wins in the nfl   \n",
       "4    what happened to the lost settlement of roanoke   \n",
       "\n",
       "                                         annotations  \\\n",
       "0  [{'yes_no_answer': 'NONE', 'long_answer': {'st...   \n",
       "1  [{'yes_no_answer': 'NONE', 'long_answer': {'st...   \n",
       "2  [{'yes_no_answer': 'NONE', 'long_answer': {'st...   \n",
       "3  [{'yes_no_answer': 'NONE', 'long_answer': {'st...   \n",
       "4  [{'yes_no_answer': 'NONE', 'long_answer': {'st...   \n",
       "\n",
       "                                        document_url           example_id  \n",
       "0  https://en.wikipedia.org//w/index.php?title=Em...  5655493461695504401  \n",
       "1  https://en.wikipedia.org//w/index.php?title=Th...  5328212470870865242  \n",
       "2  https://en.wikipedia.org//w/index.php?title=Hu...  4435104480114867852  \n",
       "3  https://en.wikipedia.org//w/index.php?title=Li...  5289242154789678439  \n",
       "4  https://en.wikipedia.org//w/index.php?title=Ro...  5489863933082811018  "
      ]
     },
     "execution_count": 20,
     "metadata": {},
     "output_type": "execute_result"
    }
   ],
   "source": [
    "df_train = pd.DataFrame(json_train)\n",
    "df_train.head()"
   ]
  },
  {
   "cell_type": "code",
   "execution_count": 21,
   "metadata": {
    "ExecuteTime": {
     "end_time": "2019-12-30T14:41:23.068478Z",
     "start_time": "2019-12-30T14:41:23.062990Z"
    },
    "scrolled": true
   },
   "outputs": [
    {
     "data": {
      "text/plain": [
       "[{'start_token': 14, 'top_level': True, 'end_token': 170},\n",
       " {'start_token': 15, 'top_level': False, 'end_token': 169},\n",
       " {'start_token': 52, 'top_level': False, 'end_token': 103},\n",
       " {'start_token': 53, 'top_level': False, 'end_token': 102},\n",
       " {'start_token': 103, 'top_level': False, 'end_token': 156},\n",
       " {'start_token': 104, 'top_level': False, 'end_token': 155},\n",
       " {'start_token': 170, 'top_level': True, 'end_token': 321},\n",
       " {'start_token': 171, 'top_level': False, 'end_token': 180},\n",
       " {'start_token': 180, 'top_level': False, 'end_token': 186},\n",
       " {'start_token': 186, 'top_level': False, 'end_token': 224}]"
      ]
     },
     "execution_count": 21,
     "metadata": {},
     "output_type": "execute_result"
    }
   ],
   "source": [
    "df_train.iloc[0].loc['long_answer_candidates'][:10]"
   ]
  },
  {
   "cell_type": "code",
   "execution_count": 113,
   "metadata": {
    "ExecuteTime": {
     "end_time": "2019-12-30T16:11:32.725941Z",
     "start_time": "2019-12-30T16:11:32.716656Z"
    }
   },
   "outputs": [
    {
     "data": {
      "text/plain": [
       "[{'yes_no_answer': 'NONE',\n",
       "  'long_answer': {'start_token': -1, 'candidate_index': -1, 'end_token': -1},\n",
       "  'short_answers': [],\n",
       "  'annotation_id': 9055562038158888262}]"
      ]
     },
     "execution_count": 113,
     "metadata": {},
     "output_type": "execute_result"
    }
   ],
   "source": [
    "df_train.iloc[9].loc['annotations']"
   ]
  },
  {
   "cell_type": "markdown",
   "metadata": {},
   "source": [
    "# Data Visualization"
   ]
  },
  {
   "cell_type": "markdown",
   "metadata": {},
   "source": [
    "## Obtain data"
   ]
  },
  {
   "cell_type": "markdown",
   "metadata": {},
   "source": [
    "We must be cautious that <span style=\"color: red\">**\"short answer\" for this competition corresponds to \"yes-no answer\" in the original dataset**.</span>  "
   ]
  },
  {
   "cell_type": "code",
   "execution_count": 120,
   "metadata": {
    "ExecuteTime": {
     "end_time": "2019-12-30T16:20:10.512203Z",
     "start_time": "2019-12-30T16:18:53.450391Z"
    }
   },
   "outputs": [
    {
     "name": "stderr",
     "output_type": "stream",
     "text": [
      " 14%|█▍        | 42839/307373 [00:10<01:06, 3949.25it/s]\n",
      "100%|█████████▉| 307056/307373 [01:16<00:00, 4065.00it/s][A\n",
      "100%|██████████| 307373/307373 [01:17<00:00, 3989.80it/s]\n"
     ]
    }
   ],
   "source": [
    "N_TRAIN = 307373\n",
    "n_long_candidates_train = np.zeros(N_TRAIN)\n",
    "t_long_train = np.zeros((N_TRAIN,2))  # [start_token, end_token]\n",
    "t_yesno_train = []\n",
    "t_short_train = []\n",
    "top_level = []\n",
    "\n",
    "with open(PATH_TRAIN, 'rt') as f:\n",
    "    for i in tqdm(range(N_TRAIN), position=0, leave=True):\n",
    "        dic = json.loads(f.readline())\n",
    "        n_long_candidates_train[i] = len(dic['long_answer_candidates'])\n",
    "        t_long_train[i,0] = dic['annotations'][0]['long_answer']['start_token']\n",
    "        t_long_train[i,1] = dic['annotations'][0]['long_answer']['end_token']\n",
    "        t_yesno_train.append(dic['annotations'][0]['yes_no_answer'])\n",
    "        t_short_train.append(len(dic['annotations'][0]['short_answers']))\n",
    "        long_answer_candidate_index = dic['annotations'][0]['long_answer']['candidate_index']\n",
    "        if long_answer_candidate_index != -1:\n",
    "            top_level.append(dic['long_answer_candidates'][long_answer_candidate_index]['top_level'])"
   ]
  },
  {
   "cell_type": "code",
   "execution_count": 25,
   "metadata": {
    "ExecuteTime": {
     "end_time": "2019-12-30T14:42:39.004806Z",
     "start_time": "2019-12-30T14:42:39.001217Z"
    }
   },
   "outputs": [],
   "source": [
    "N_TEST = 345\n",
    "n_long_candidates_test = np.zeros(N_TEST)"
   ]
  },
  {
   "cell_type": "code",
   "execution_count": 26,
   "metadata": {
    "ExecuteTime": {
     "end_time": "2019-12-30T14:42:39.146633Z",
     "start_time": "2019-12-30T14:42:39.007662Z"
    }
   },
   "outputs": [
    {
     "name": "stderr",
     "output_type": "stream",
     "text": [
      "100%|██████████| 345/345 [00:00<00:00, 2649.06it/s]\n"
     ]
    }
   ],
   "source": [
    "with open(PATH_TEST, 'rt') as f:\n",
    "    for i in tqdm(range(N_TEST)):\n",
    "        dic = json.loads(f.readline())\n",
    "        n_long_candidates_test[i] = len(dic['long_answer_candidates'])"
   ]
  },
  {
   "cell_type": "markdown",
   "metadata": {},
   "source": [
    "## Visualization"
   ]
  },
  {
   "cell_type": "code",
   "execution_count": 27,
   "metadata": {
    "ExecuteTime": {
     "end_time": "2019-12-30T14:42:39.152030Z",
     "start_time": "2019-12-30T14:42:39.148358Z"
    }
   },
   "outputs": [],
   "source": [
    "plt.style.use('seaborn-darkgrid')\n",
    "plt.style.use('seaborn-poster')"
   ]
  },
  {
   "cell_type": "markdown",
   "metadata": {
    "ExecuteTime": {
     "end_time": "2019-10-31T07:28:07.691209Z",
     "start_time": "2019-10-31T07:28:07.685205Z"
    }
   },
   "source": [
    "### Take a glance at data"
   ]
  },
  {
   "cell_type": "code",
   "execution_count": 28,
   "metadata": {
    "ExecuteTime": {
     "end_time": "2019-12-30T14:42:39.175850Z",
     "start_time": "2019-12-30T14:42:39.154789Z"
    }
   },
   "outputs": [],
   "source": [
    "def show_example(example_id):\n",
    "    example = df_train[df_train['example_id']==example_id]\n",
    "    document_text = example['document_text'].values[0]\n",
    "    question = example['question_text'].values[0]\n",
    "\n",
    "    annotations = example['annotations'].values[0]\n",
    "    la_start_token = annotations[0]['long_answer']['start_token']\n",
    "    la_end_token = annotations[0]['long_answer']['end_token']\n",
    "    long_answer = \" \".join(document_text.split(\" \")[la_start_token:la_end_token])\n",
    "    short_answers = annotations[0]['short_answers']\n",
    "    sa_list = []\n",
    "    for sa in short_answers:\n",
    "        sa_start_token = sa['start_token']\n",
    "        sa_end_token = sa['end_token']\n",
    "        short_answer = \" \".join(document_text.split(\" \")[sa_start_token:sa_end_token])\n",
    "        sa_list.append(short_answer)\n",
    "    \n",
    "    document_text = document_text.replace(long_answer,'<LALALALA>')\n",
    "    sa=False\n",
    "    la=''\n",
    "    \n",
    "    # fix empty short_answers bug\n",
    "    if short_answers:\n",
    "        for sa in short_answers:\n",
    "            sa_start_token = sa['start_token']\n",
    "            sa_end_token = sa['end_token']\n",
    "            for i,laword in enumerate(long_answer.split(\" \")):\n",
    "                ind = i+la_start_token\n",
    "                if ind==sa_start_token:\n",
    "                    la = la+' SASASASA'+laword\n",
    "                elif ind==sa_end_token-1:\n",
    "                    la = la+' '+laword+'SESESESE'\n",
    "                else:\n",
    "                    la = la+' '+laword\n",
    "    else:\n",
    "        la=long_answer\n",
    "#     print(la)\n",
    "    html = '<div style=\"font-weight: bold;font-size: 20px;color:#00239CFF\">Example Id</div><br/>'\n",
    "    html = html + '<div>' + str(example_id) + '</div><hr>'\n",
    "    html = html + '<div style=\"font-weight: bold;font-size: 20px;color:#00239CFF\">Question</div><br/>'\n",
    "    html = html + '<div>' + question + ' ?</div><hr>'\n",
    "    html = html + '<div style=\"font-weight: bold;font-size: 20px;color:#00239CFF\">Document Text</div><br/>'\n",
    "    \n",
    "    if la_start_token==-1:\n",
    "        html = html + '<div>There are no answers found in the document</div><hr>'\n",
    "    else:\n",
    "        la = la.replace('SASASASA','<span style=\"background-color:#C7D3D4FF; padding:5px\"><font color=\"#000\">')\n",
    "        la = la.replace('SESESESE','</font></span>')\n",
    "        document_text = document_text.replace('<LALALALA>','<div style=\"background-color:#603F83FF; padding:5px\"><font color=\"#fff\">'+la+'</font></div>')\n",
    "\n",
    "        #for simplicity, trim words from end of the document\n",
    "        html = html + '<div>' + \" \".join(document_text.split(\" \")[:la_end_token+200]) + ' </div>'\n",
    "    display(HTML(html))"
   ]
  },
  {
   "cell_type": "markdown",
   "metadata": {},
   "source": [
    "To keep scroll bar short, content from the document text is trimmed at the end.\n",
    "\n",
    "**Long answer is highlighted in dark blue, and short answers are in light blue.**"
   ]
  },
  {
   "cell_type": "code",
   "execution_count": 29,
   "metadata": {
    "ExecuteTime": {
     "end_time": "2019-12-30T14:42:39.190455Z",
     "start_time": "2019-12-30T14:42:39.178447Z"
    }
   },
   "outputs": [
    {
     "data": {
      "text/html": [
       "<div style=\"font-weight: bold;font-size: 20px;color:#00239CFF\">Example Id</div><br/><div>5328212470870865242</div><hr><div style=\"font-weight: bold;font-size: 20px;color:#00239CFF\">Question</div><br/><div>how i.met your mother who is the mother ?</div><hr><div style=\"font-weight: bold;font-size: 20px;color:#00239CFF\">Document Text</div><br/><div>The Mother ( How I Met Your Mother ) - wikipedia <H1> The Mother ( How I Met Your Mother ) </H1> Jump to : navigation , search <Table> <Tr> <Th_colspan=\"2\"> Tracy McConnell </Th> </Tr> <Tr> <Td_colspan=\"2\"> How I Met Your Mother character </Td> </Tr> <Tr> <Td_colspan=\"2\"> The Mother appearing in `` The Locket '' </Td> </Tr> <Tr> <Th> First appearance </Th> <Td> `` Lucky Penny ( unseen ) '' `` Something New '' ( seen ) </Td> </Tr> <Tr> <Th> Last appearance </Th> <Td> `` Last Forever '' </Td> </Tr> <Tr> <Th> Created by </Th> <Td> Carter Bays Craig Thomas </Td> </Tr> <Tr> <Th> Portrayed by </Th> <Td> Cristin Milioti </Td> </Tr> <Tr> <Th_colspan=\"2\"> Information </Th> </Tr> <Tr> <Th> Aliases </Th> <Td> The Mother </Td> </Tr> <Tr> <Th> Gender </Th> <Td> Female </Td> </Tr> <Tr> <Th> Spouse ( s ) </Th> <Td> Ted Mosby </Td> </Tr> <Tr> <Th> Significant other ( s ) </Th> <Td> Max ( deceased former boyfriend ) Louis ( ex-boyfriend ) </Td> </Tr> <Tr> <Th> Children </Th> <Td> Penny Mosby ( daughter , born in 2015 , played by Lyndsy Fonseca ) Luke Mosby ( son , born in 2017 , played by David Henrie ) </Td> </Tr> <Tr> <Th> Nationality </Th> <Td> American </Td> </Tr> </Table> <div style=\"background-color:#603F83FF; padding:5px\"><font color=\"#fff\"> <P> <span style=\"background-color:#C7D3D4FF; padding:5px\"><font color=\"#000\">Tracy McConnell</font></span> , better known as `` The Mother '' , is the title character from the CBS television sitcom How I Met Your Mother . The show , narrated by Future Ted , tells the story of how Ted Mosby met The Mother . Tracy McConnell appears in 8 episodes from `` Lucky Penny '' to `` The Time Travelers '' as an unseen character ; she was first seen fully in `` Something New '' and was promoted to a main character in season 9 . The Mother is played by Cristin Milioti . </P></font></div> <P> The story of how Ted met The Mother is the framing device behind the series ; many facts about her are revealed throughout the series , including the fact that Ted once unwittingly owned her umbrella before accidentally leaving it behind in her apartment . Ted and The Mother meet at the Farhampton train station following Barney Stinson and Robin Scherbatsky 's wedding ; this scene is shown in `` Last Forever '' , the series finale . The Mother 's death from an unspecified terminal illness in 2024 , also revealed in the series finale , received a mixed reaction from fans . </P> <P> An alternate ending was released in the ninth season DVD . In the alternate ending , Tracy Mosby is still living when Ted is telling the story in 2030 . In the video , future Ted is heard saying , `` ... When I think how lucky I am to wake up next to your mom every morning , I ca n't help but be amazed how easy it all really was ... '' , indirectly stating that The Mother is alive . The video ends </div>"
      ],
      "text/plain": [
       "<IPython.core.display.HTML object>"
      ]
     },
     "metadata": {},
     "output_type": "display_data"
    }
   ],
   "source": [
    "show_example(5328212470870865242)"
   ]
  },
  {
   "cell_type": "markdown",
   "metadata": {},
   "source": [
    "### Long answer candidates"
   ]
  },
  {
   "cell_type": "markdown",
   "metadata": {},
   "source": [
    "Some of data for long answers are swamped with a lot of candidates (**7946 in maximum!**):"
   ]
  },
  {
   "cell_type": "code",
   "execution_count": 30,
   "metadata": {
    "ExecuteTime": {
     "end_time": "2019-12-30T14:42:39.214396Z",
     "start_time": "2019-12-30T14:42:39.193010Z"
    }
   },
   "outputs": [
    {
     "data": {
      "text/plain": [
       "count    307373.000000\n",
       "mean        131.354185\n",
       "std         170.104565\n",
       "min           1.000000\n",
       "25%          45.000000\n",
       "50%          87.000000\n",
       "75%         158.000000\n",
       "max        7946.000000\n",
       "dtype: float64"
      ]
     },
     "execution_count": 30,
     "metadata": {},
     "output_type": "execute_result"
    }
   ],
   "source": [
    "pd.Series(n_long_candidates_train).describe()"
   ]
  },
  {
   "cell_type": "code",
   "execution_count": 31,
   "metadata": {
    "ExecuteTime": {
     "end_time": "2019-12-30T14:42:39.223915Z",
     "start_time": "2019-12-30T14:42:39.216829Z"
    }
   },
   "outputs": [
    {
     "data": {
      "text/plain": [
       "count     345.000000\n",
       "mean      130.710145\n",
       "std       171.995834\n",
       "min         2.000000\n",
       "25%        48.000000\n",
       "50%        86.000000\n",
       "75%       155.000000\n",
       "max      1837.000000\n",
       "dtype: float64"
      ]
     },
     "execution_count": 31,
     "metadata": {},
     "output_type": "execute_result"
    }
   ],
   "source": [
    "pd.Series(n_long_candidates_test).describe()"
   ]
  },
  {
   "cell_type": "markdown",
   "metadata": {},
   "source": [
    "n_long_candidates_train is long-tail distribution, range in [1, 7946]"
   ]
  },
  {
   "cell_type": "code",
   "execution_count": 35,
   "metadata": {
    "ExecuteTime": {
     "end_time": "2019-12-30T14:59:43.269604Z",
     "start_time": "2019-12-30T14:59:42.835069Z"
    }
   },
   "outputs": [
    {
     "data": {
      "text/plain": [
       "<matplotlib.legend.Legend at 0x7fd04c666190>"
      ]
     },
     "execution_count": 35,
     "metadata": {},
     "output_type": "execute_result"
    },
    {
     "data": {
      "image/png": "[encoded data removed]",
      "text/plain": [
       "<Figure size 921.6x633.6 with 1 Axes>"
      ]
     },
     "metadata": {},
     "output_type": "display_data"
    }
   ],
   "source": [
    "plt.hist(n_long_candidates_train, bins=64, alpha=0.5, color='c', label='train')\n",
    "plt.xlabel('long answer candidates')\n",
    "plt.ylabel('samples')\n",
    "plt.title(\"Distribution of number of long answer candidates\")\n",
    "plt.legend()"
   ]
  },
  {
   "cell_type": "markdown",
   "metadata": {},
   "source": [
    "n_long_candidates_train and n_long_candidates_test have similar distribution"
   ]
  },
  {
   "cell_type": "code",
   "execution_count": 37,
   "metadata": {
    "ExecuteTime": {
     "end_time": "2019-12-30T15:01:11.781053Z",
     "start_time": "2019-12-30T15:01:11.236199Z"
    }
   },
   "outputs": [
    {
     "data": {
      "text/plain": [
       "<matplotlib.legend.Legend at 0x7fd04c3f34d0>"
      ]
     },
     "execution_count": 37,
     "metadata": {},
     "output_type": "execute_result"
    },
    {
     "data": {
      "image/png": "[encoded data removed]",
      "text/plain": [
       "<Figure size 921.6x633.6 with 1 Axes>"
      ]
     },
     "metadata": {},
     "output_type": "display_data"
    }
   ],
   "source": [
    "plt.hist(n_long_candidates_train[n_long_candidates_train < np.max(n_long_candidates_test)], density=True, bins=64, alpha=0.5, color='c', label='train')\n",
    "plt.hist(n_long_candidates_test, density=True, bins=64, alpha=0.5, color='orange', label='test')\n",
    "plt.xlabel('long answer candidates')\n",
    "plt.ylabel('sample proportion')\n",
    "plt.title(\"Normalized distribution of number of long answer candidates\")\n",
    "plt.legend()"
   ]
  },
  {
   "cell_type": "markdown",
   "metadata": {},
   "source": [
    "### Short answer labels"
   ]
  },
  {
   "cell_type": "markdown",
   "metadata": {},
   "source": [
    "- 63.47% 'NO ANSWERS' in short answer labels\n",
    "- one question can have multiple short answers within same long anwser\n",
    "- when yes-no answer is not 'None' (i.e. yes or no), short answer always be empty"
   ]
  },
  {
   "cell_type": "code",
   "execution_count": 230,
   "metadata": {
    "ExecuteTime": {
     "end_time": "2019-11-02T11:11:34.267345Z",
     "start_time": "2019-11-02T11:11:34.186833Z"
    }
   },
   "outputs": [
    {
     "data": {
      "text/plain": [
       "count    307373.000000\n",
       "mean          0.423697\n",
       "std           0.785533\n",
       "min           0.000000\n",
       "25%           0.000000\n",
       "50%           0.000000\n",
       "75%           1.000000\n",
       "max          25.000000\n",
       "dtype: float64"
      ]
     },
     "execution_count": 230,
     "metadata": {},
     "output_type": "execute_result"
    }
   ],
   "source": [
    "pd.Series(t_short_train).describe()"
   ]
  },
  {
   "cell_type": "code",
   "execution_count": 38,
   "metadata": {
    "ExecuteTime": {
     "end_time": "2019-12-30T15:03:10.621578Z",
     "start_time": "2019-12-30T15:03:10.219301Z"
    }
   },
   "outputs": [
    {
     "data": {
      "text/plain": [
       "<matplotlib.legend.Legend at 0x7fd04c1ed7d0>"
      ]
     },
     "execution_count": 38,
     "metadata": {},
     "output_type": "execute_result"
    },
    {
     "data": {
      "image/png": "[encoded data removed]",
      "text/plain": [
       "<Figure size 921.6x633.6 with 1 Axes>"
      ]
     },
     "metadata": {},
     "output_type": "display_data"
    }
   ],
   "source": [
    "plt.hist(t_short_train, bins=range(max(t_short_train)), align='left', density=True, rwidth=0.6, color='lightseagreen', label='train')\n",
    "plt.xlabel('short answer')\n",
    "plt.ylabel('sample proportion')\n",
    "plt.title(\"Normalized distribution of number of short answer labels\")\n",
    "plt.legend()"
   ]
  },
  {
   "cell_type": "markdown",
   "metadata": {
    "ExecuteTime": {
     "end_time": "2019-11-02T11:16:53.576379Z",
     "start_time": "2019-11-02T11:16:53.560201Z"
    }
   },
   "source": [
    "a example with multiple short answers"
   ]
  },
  {
   "cell_type": "code",
   "execution_count": 39,
   "metadata": {
    "ExecuteTime": {
     "end_time": "2019-12-30T15:03:53.452843Z",
     "start_time": "2019-12-30T15:03:53.430709Z"
    },
    "scrolled": true
   },
   "outputs": [
    {
     "data": {
      "text/html": [
       "<div style=\"font-weight: bold;font-size: 20px;color:#00239CFF\">Example Id</div><br/><div>-1413521544318030897</div><hr><div style=\"font-weight: bold;font-size: 20px;color:#00239CFF\">Question</div><br/><div>who have been the hosts of the price is right ?</div><hr><div style=\"font-weight: bold;font-size: 20px;color:#00239CFF\">Document Text</div><br/><div>The Price Is Right - wikipedia <H1> The Price Is Right </H1> Jump to : navigation , search This article is about The Price Is Right franchise . For the American version airing since 1972 , see The Price Is Right ( U.S. game show ) . For other uses , see The Price Is Right ( disambiguation ) . <Table> <Tr> <Td> </Td> <Td> ( hide ) This article has multiple issues . Please help improve it or discuss these issues on the talk page . ( Learn how and when to remove these template messages ) <Table> <Tr> <Td> </Td> <Td> This article may contain too many colloquial terms , phrases or words . These concerns ought to be addressed or reviewed . Specific concerns may be found on the talk page . See Wikipedia 's guide to writing better articles for suggestions . ( December 2010 ) </Td> </Tr> </Table> <Table> <Tr> <Td> </Td> <Td> This article needs additional citations for verification . Please help improve this article by adding citations to reliable sources . Unsourced material may be challenged and removed . ( December 2010 ) ( Learn how and when to remove this template message ) </Td> </Tr> </Table> ( Learn how and when to remove this template message ) </Td> </Tr> </Table> <div style=\"background-color:#603F83FF; padding:5px\"><font color=\"#fff\"> <P> The Price Is Right is a television game show franchise originally produced by Mark Goodson and Bill Todman , and created by Bob Stewart , and is currently produced and owned by FremantleMedia ( Endemol in Netherlands ) . The franchise centers on television game shows , but also includes merchandise such as video games , printed media and board games . The franchise began in 1956 as a television game show hosted by <span style=\"background-color:#C7D3D4FF; padding:5px\"><font color=\"#000\">Bill Cullen</font></span> and was revamped in 1972 . This version was originally hosted by Bob Barker . Since 2007 , Drew Carey has hosted the program . </P> <P> The Price Is Right is a television game show franchise originally produced by Mark Goodson and Bill Todman , and created by Bob Stewart , and is currently produced and owned by FremantleMedia ( Endemol in Netherlands ) . The franchise centers on television game shows , but also includes merchandise such as video games , printed media and board games . The franchise began in 1956 as a television game show hosted by Bill Cullen and was revamped in 1972 . This version was originally hosted by <span style=\"background-color:#C7D3D4FF; padding:5px\"><font color=\"#000\">Bob Barker</font></span> . Since 2007 , Drew Carey has hosted the program . </P> <P> The Price Is Right is a television game show franchise originally produced by Mark Goodson and Bill Todman , and created by Bob Stewart , and is currently produced and owned by FremantleMedia ( Endemol in Netherlands ) . The franchise centers on television game shows , but also includes merchandise such as video games , printed media and board games . The franchise began in 1956 as a television game show hosted by Bill Cullen and was revamped in 1972 . This version was originally </div>"
      ],
      "text/plain": [
       "<IPython.core.display.HTML object>"
      ]
     },
     "metadata": {},
     "output_type": "display_data"
    }
   ],
   "source": [
    "show_example(-1413521544318030897)"
   ]
  },
  {
   "cell_type": "markdown",
   "metadata": {},
   "source": [
    "when yes-no answer is not 'None' (i.e. yes or no), short answer always be empty"
   ]
  },
  {
   "cell_type": "code",
   "execution_count": 40,
   "metadata": {
    "ExecuteTime": {
     "end_time": "2019-12-30T15:03:56.338207Z",
     "start_time": "2019-12-30T15:03:56.134042Z"
    }
   },
   "outputs": [],
   "source": [
    "# no_answer_state[1,:] is the number of train data whose short answer is empty\n",
    "# no_answer_state[:,0] is the number of train data whose yes-no answer is 'YES' OR 'NO'\n",
    "t_short_train = np.array(t_short_train)\n",
    "yesno_answer_state = np.zeros((2,2))\n",
    "yesno_answer_state[1,1] = np.sum((t_short_train==0) * (np.array([ 1 if t=='NONE' else 0 for t in t_yesno_train ])))\n",
    "yesno_answer_state[1,0] = np.sum((t_short_train==0) * (np.array([ 0 if t=='NONE' else 1 for t in t_yesno_train ])))\n",
    "yesno_answer_state[0,1] = np.sum((t_short_train>0) * (np.array([ 1 if t=='NONE' else 0 for t in t_yesno_train ])))\n",
    "yesno_answer_state[0,0] = np.sum((t_short_train>0) * (np.array([ 0 if t=='NONE' else 1 for t in t_yesno_train ])))        "
   ]
  },
  {
   "cell_type": "code",
   "execution_count": 41,
   "metadata": {
    "ExecuteTime": {
     "end_time": "2019-12-30T15:03:57.119004Z",
     "start_time": "2019-12-30T15:03:57.111684Z"
    }
   },
   "outputs": [
    {
     "data": {
      "text/plain": [
       "array([[     0., 106926.],\n",
       "       [  3798., 196649.]])"
      ]
     },
     "execution_count": 41,
     "metadata": {},
     "output_type": "execute_result"
    }
   ],
   "source": [
    "yesno_answer_state"
   ]
  },
  {
   "cell_type": "code",
   "execution_count": 42,
   "metadata": {
    "ExecuteTime": {
     "end_time": "2019-12-30T15:03:58.973579Z",
     "start_time": "2019-12-30T15:03:58.696956Z"
    }
   },
   "outputs": [
    {
     "data": {
      "text/plain": [
       "<matplotlib.axes._subplots.AxesSubplot at 0x7fd04c124290>"
      ]
     },
     "execution_count": 42,
     "metadata": {},
     "output_type": "execute_result"
    },
    {
     "data": {
      "image/png": "[encoded data removed]",
      "text/plain": [
       "<Figure size 921.6x633.6 with 2 Axes>"
      ]
     },
     "metadata": {},
     "output_type": "display_data"
    }
   ],
   "source": [
    "sns.heatmap(yesno_answer_state / N_TRAIN, annot=True, annot_kws={\"size\": 25}, fmt='.3f', cmap='Blues_r')"
   ]
  },
  {
   "cell_type": "markdown",
   "metadata": {},
   "source": [
    "### Number of Yes-no answer labels"
   ]
  },
  {
   "cell_type": "markdown",
   "metadata": {},
   "source": [
    "We can see significant class imbalance in yes-no answer labels."
   ]
  },
  {
   "cell_type": "code",
   "execution_count": 43,
   "metadata": {
    "ExecuteTime": {
     "end_time": "2019-12-30T15:05:25.985287Z",
     "start_time": "2019-12-30T15:05:25.525628Z"
    }
   },
   "outputs": [
    {
     "data": {
      "text/plain": [
       "<matplotlib.legend.Legend at 0x7fd028581cd0>"
      ]
     },
     "execution_count": 43,
     "metadata": {},
     "output_type": "execute_result"
    },
    {
     "data": {
      "image/png": "[encoded data removed]",
      "text/plain": [
       "<Figure size 921.6x633.6 with 1 Axes>"
      ]
     },
     "metadata": {},
     "output_type": "display_data"
    }
   ],
   "source": [
    "plt.hist(t_yesno_train, bins=[0,1,2,3], align='left', density=True, rwidth=0.6, color='lightseagreen', label='train')\n",
    "plt.xlabel('yes-no answer')\n",
    "plt.ylabel('sample proportion')\n",
    "plt.title(\"Normalized distribution of yes-no answer labels\")\n",
    "plt.legend()"
   ]
  },
  {
   "cell_type": "markdown",
   "metadata": {
    "ExecuteTime": {
     "end_time": "2019-10-31T17:51:35.940704Z",
     "start_time": "2019-10-31T17:51:35.877393Z"
    }
   },
   "source": [
    "#### Example of NO"
   ]
  },
  {
   "cell_type": "code",
   "execution_count": 196,
   "metadata": {
    "ExecuteTime": {
     "end_time": "2019-11-01T09:03:23.548123Z",
     "start_time": "2019-11-01T09:03:23.539678Z"
    }
   },
   "outputs": [
    {
     "data": {
      "text/plain": [
       "[{'yes_no_answer': 'NO',\n",
       "  'long_answer': {'start_token': 6539,\n",
       "   'candidate_index': 77,\n",
       "   'end_token': 6646},\n",
       "  'short_answers': [],\n",
       "  'annotation_id': 13761098100656608312}]"
      ]
     },
     "execution_count": 196,
     "metadata": {},
     "output_type": "execute_result"
    }
   ],
   "source": [
    "df_train[df_train.example_id==3817861884803470204]['annotations'].iloc[0]"
   ]
  },
  {
   "cell_type": "markdown",
   "metadata": {},
   "source": [
    "#### Example of YES"
   ]
  },
  {
   "cell_type": "code",
   "execution_count": 197,
   "metadata": {
    "ExecuteTime": {
     "end_time": "2019-11-01T09:03:34.720110Z",
     "start_time": "2019-11-01T09:03:34.711234Z"
    }
   },
   "outputs": [
    {
     "data": {
      "text/plain": [
       "[{'yes_no_answer': 'YES',\n",
       "  'long_answer': {'start_token': 1353,\n",
       "   'candidate_index': 15,\n",
       "   'end_token': 1376},\n",
       "  'short_answers': [],\n",
       "  'annotation_id': 15266883435030073863}]"
      ]
     },
     "execution_count": 197,
     "metadata": {},
     "output_type": "execute_result"
    }
   ],
   "source": [
    "df_train[df_train.example_id==5429746486027633157]['annotations'].iloc[0]"
   ]
  },
  {
   "cell_type": "markdown",
   "metadata": {},
   "source": [
    "### Long answer labels"
   ]
  },
  {
   "cell_type": "markdown",
   "metadata": {},
   "source": [
    "Description of start token labels:"
   ]
  },
  {
   "cell_type": "code",
   "execution_count": 44,
   "metadata": {
    "ExecuteTime": {
     "end_time": "2019-12-30T15:09:22.677260Z",
     "start_time": "2019-12-30T15:09:22.652240Z"
    }
   },
   "outputs": [
    {
     "data": {
      "text/plain": [
       "count    307373.000000\n",
       "mean        532.571589\n",
       "std        1600.149053\n",
       "min          -1.000000\n",
       "25%          -1.000000\n",
       "50%          -1.000000\n",
       "75%         367.000000\n",
       "max       87343.000000\n",
       "dtype: float64"
      ]
     },
     "execution_count": 44,
     "metadata": {},
     "output_type": "execute_result"
    }
   ],
   "source": [
    "pd.Series(t_long_train[:,0]).describe()"
   ]
  },
  {
   "cell_type": "markdown",
   "metadata": {},
   "source": [
    "Desciption of end token labels:"
   ]
  },
  {
   "cell_type": "code",
   "execution_count": 45,
   "metadata": {
    "ExecuteTime": {
     "end_time": "2019-12-30T15:09:23.881505Z",
     "start_time": "2019-12-30T15:09:23.860354Z"
    }
   },
   "outputs": [
    {
     "data": {
      "text/plain": [
       "count    307373.000000\n",
       "mean        722.793020\n",
       "std        2041.141321\n",
       "min          -1.000000\n",
       "25%          -1.000000\n",
       "50%          -1.000000\n",
       "75%         535.000000\n",
       "max      123780.000000\n",
       "dtype: float64"
      ]
     },
     "execution_count": 45,
     "metadata": {},
     "output_type": "execute_result"
    }
   ],
   "source": [
    "pd.Series(t_long_train[:,1]).describe()"
   ]
  },
  {
   "cell_type": "markdown",
   "metadata": {},
   "source": [
    "We can see below that nearly half of the long answers have start/end token -1.  \n",
    "In other words, there are a 50.5% of '**NO ANSWERS**' in long answer labels, not only in yes-no labels:"
   ]
  },
  {
   "cell_type": "code",
   "execution_count": 46,
   "metadata": {
    "ExecuteTime": {
     "end_time": "2019-12-30T15:09:26.680510Z",
     "start_time": "2019-12-30T15:09:26.670546Z"
    }
   },
   "outputs": [
    {
     "name": "stdout",
     "output_type": "stream",
     "text": [
      "50.5% of start tokens are -1.\n",
      "50.5% of end tokens are -1.\n"
     ]
    }
   ],
   "source": [
    "print('{0:.1f}% of start tokens are -1.'.format(np.sum(t_long_train[:,0] < 0) / N_TRAIN * 100))\n",
    "print('{0:.1f}% of end tokens are -1.'.format(np.sum(t_long_train[:,1] < 0) / N_TRAIN * 100))"
   ]
  },
  {
   "cell_type": "markdown",
   "metadata": {},
   "source": [
    "**If the start token is -1, the corresponding end token is also -1**:"
   ]
  },
  {
   "cell_type": "code",
   "execution_count": 47,
   "metadata": {
    "ExecuteTime": {
     "end_time": "2019-12-30T15:09:27.791011Z",
     "start_time": "2019-12-30T15:09:27.780870Z"
    }
   },
   "outputs": [
    {
     "data": {
      "text/plain": [
       "0"
      ]
     },
     "execution_count": 47,
     "metadata": {},
     "output_type": "execute_result"
    }
   ],
   "source": [
    "np.sum(t_long_train[:,0] * t_long_train[:,1] < 0)"
   ]
  },
  {
   "cell_type": "markdown",
   "metadata": {},
   "source": [
    "The heatmap below tells us that:\n",
    "- when the start token and/or the end token are -1, yes-no answer is 'NONE'\n",
    "- yes-no answer 'NONE' does not always mean that the start token and/or the end token are -1"
   ]
  },
  {
   "cell_type": "code",
   "execution_count": 48,
   "metadata": {
    "ExecuteTime": {
     "end_time": "2019-12-30T15:10:59.723952Z",
     "start_time": "2019-12-30T15:10:59.555455Z"
    }
   },
   "outputs": [],
   "source": [
    "# no_answer_state[1,:] is the number of train data whose start token and end token are -1\n",
    "# no_answer_state[:,1] is the number of train data whose yes-no answer is 'NONE'\n",
    "\n",
    "no_answer_state = np.zeros((2,2))\n",
    "no_answer_state[1,1] = np.sum((t_long_train[:,0]==-1) * (np.array([ 1 if t=='NONE' else 0 for t in t_yesno_train ])))\n",
    "no_answer_state[1,0] = np.sum((t_long_train[:,0]==-1) * (np.array([ 0 if t=='NONE' else 1 for t in t_yesno_train ])))\n",
    "no_answer_state[0,1] = np.sum((t_long_train[:,0]>=0) * (np.array([ 1 if t=='NONE' else 0 for t in t_yesno_train ])))\n",
    "no_answer_state[0,0] = np.sum((t_long_train[:,0]>=0) * (np.array([ 0 if t=='NONE' else 1 for t in t_yesno_train ])))                             "
   ]
  },
  {
   "cell_type": "code",
   "execution_count": 49,
   "metadata": {
    "ExecuteTime": {
     "end_time": "2019-12-30T15:11:00.149773Z",
     "start_time": "2019-12-30T15:11:00.142834Z"
    }
   },
   "outputs": [
    {
     "data": {
      "text/plain": [
       "array([[  3798., 148350.],\n",
       "       [     0., 155225.]])"
      ]
     },
     "execution_count": 49,
     "metadata": {},
     "output_type": "execute_result"
    }
   ],
   "source": [
    "no_answer_state"
   ]
  },
  {
   "cell_type": "code",
   "execution_count": 50,
   "metadata": {
    "ExecuteTime": {
     "end_time": "2019-12-30T15:11:02.804835Z",
     "start_time": "2019-12-30T15:11:02.550291Z"
    }
   },
   "outputs": [
    {
     "data": {
      "text/plain": [
       "<matplotlib.axes._subplots.AxesSubplot at 0x7fd0285c9c10>"
      ]
     },
     "execution_count": 50,
     "metadata": {},
     "output_type": "execute_result"
    },
    {
     "data": {
      "image/png": "[encoded data removed]",
      "text/plain": [
       "<Figure size 921.6x633.6 with 2 Axes>"
      ]
     },
     "metadata": {},
     "output_type": "display_data"
    }
   ],
   "source": [
    "sns.heatmap(no_answer_state / N_TRAIN, annot=True, annot_kws={\"size\": 25}, fmt='.3f', vmin=0, vmax=1, cmap='Blues_r')"
   ]
  },
  {
   "cell_type": "markdown",
   "metadata": {},
   "source": [
    "#### top_level\n",
    "About 95% long answer's top_level is true"
   ]
  },
  {
   "cell_type": "code",
   "execution_count": 134,
   "metadata": {
    "ExecuteTime": {
     "end_time": "2019-12-30T16:37:41.199132Z",
     "start_time": "2019-12-30T16:37:41.178074Z"
    }
   },
   "outputs": [
    {
     "data": {
      "text/plain": [
       "True     0.949405\n",
       "False    0.050595\n",
       "dtype: float64"
      ]
     },
     "execution_count": 134,
     "metadata": {},
     "output_type": "execute_result"
    }
   ],
   "source": [
    "series_top_level = pd.Series(top_level)\n",
    "series_top_level.value_counts(normalize=True)"
   ]
  },
  {
   "cell_type": "markdown",
   "metadata": {},
   "source": [
    "## Text Word Counts"
   ]
  },
  {
   "cell_type": "markdown",
   "metadata": {},
   "source": [
    "Let us look into word counts of question texts & document texts."
   ]
  },
  {
   "cell_type": "markdown",
   "metadata": {},
   "source": [
    "### Obtain data"
   ]
  },
  {
   "cell_type": "code",
   "execution_count": 67,
   "metadata": {
    "ExecuteTime": {
     "end_time": "2019-12-30T15:40:50.553305Z",
     "start_time": "2019-12-30T15:40:50.547840Z"
    }
   },
   "outputs": [],
   "source": [
    "q_lens_train = np.zeros(N_TRAIN)\n",
    "d_lens_train = np.zeros(N_TRAIN)"
   ]
  },
  {
   "cell_type": "code",
   "execution_count": 68,
   "metadata": {
    "ExecuteTime": {
     "end_time": "2019-12-30T15:40:51.640753Z",
     "start_time": "2019-12-30T15:40:51.630134Z"
    }
   },
   "outputs": [
    {
     "data": {
      "text/plain": [
       "[{'yes_no_answer': 'NONE',\n",
       "  'long_answer': {'start_token': 1952,\n",
       "   'candidate_index': 54,\n",
       "   'end_token': 2019},\n",
       "  'short_answers': [{'start_token': 1960, 'end_token': 1969}],\n",
       "  'annotation_id': 593165450220027640}]"
      ]
     },
     "execution_count": 68,
     "metadata": {},
     "output_type": "execute_result"
    }
   ],
   "source": [
    "[{'yes_no_answer': 'NONE',\n",
    "  'long_answer': {'start_token': 1952,\n",
    "   'candidate_index': 54,\n",
    "   'end_token': 2019},\n",
    "  'short_answers': [{'start_token': 1960, 'end_token': 1969}],\n",
    "  'annotation_id': 593165450220027640}]"
   ]
  },
  {
   "cell_type": "code",
   "execution_count": 138,
   "metadata": {
    "ExecuteTime": {
     "end_time": "2019-12-30T16:56:16.303406Z",
     "start_time": "2019-12-30T16:52:14.610504Z"
    }
   },
   "outputs": [
    {
     "name": "stderr",
     "output_type": "stream",
     "text": [
      "100%|██████████| 307373/307373 [04:01<00:00, 1271.82it/s]\n"
     ]
    }
   ],
   "source": [
    "short_answer_lens_train = []\n",
    "long_answer_lens_train = []\n",
    "with open(PATH_TRAIN, 'rt') as f:\n",
    "    for i in tqdm(range(N_TRAIN), position=0, leave=True):\n",
    "        dic = json.loads(f.readline())\n",
    "        q_lens_train[i] = len(dic['question_text'].split())\n",
    "        d_lens_train[i] = len(dic['document_text'].split())\n",
    "        for annotation in dic[\"annotations\"]:\n",
    "            long_answer_len = annotation[\"long_answer\"][\"end_token\"] - annotation[\"long_answer\"][\"start_token\"]\n",
    "            if long_answer_len != 0:\n",
    "                long_answer_lens_train.append(long_answer_len)\n",
    "            for short_answer in annotation['short_answers']:\n",
    "                short_answer_len = short_answer[\"end_token\"] - short_answer[\"start_token\"]\n",
    "                short_answer_lens_train.append(short_answer_len)"
   ]
  },
  {
   "cell_type": "code",
   "execution_count": 53,
   "metadata": {
    "ExecuteTime": {
     "end_time": "2019-12-30T15:36:07.412469Z",
     "start_time": "2019-12-30T15:36:07.405993Z"
    }
   },
   "outputs": [],
   "source": [
    "q_lens_test = np.zeros(N_TEST)\n",
    "d_lens_test = np.zeros(N_TEST)"
   ]
  },
  {
   "cell_type": "code",
   "execution_count": 56,
   "metadata": {
    "ExecuteTime": {
     "end_time": "2019-12-30T15:36:26.927191Z",
     "start_time": "2019-12-30T15:36:26.580701Z"
    }
   },
   "outputs": [
    {
     "name": "stderr",
     "output_type": "stream",
     "text": [
      "\n",
      "  0%|          | 0/345 [00:00<?, ?it/s]\u001b[A\n",
      " 31%|███       | 107/345 [00:00<00:00, 1061.29it/s]\u001b[A\n",
      " 63%|██████▎   | 219/345 [00:00<00:00, 1075.95it/s]\u001b[A\n",
      "100%|██████████| 345/345 [00:00<00:00, 1030.25it/s]\u001b[A\n"
     ]
    }
   ],
   "source": [
    "with open(PATH_TEST, 'rt') as f:\n",
    "    for i in tqdm(range(N_TEST)):\n",
    "        dic = json.loads(f.readline())\n",
    "        q_lens_test[i] = len(dic['question_text'].split())\n",
    "        d_lens_test[i] = len(dic['document_text'].split())"
   ]
  },
  {
   "cell_type": "markdown",
   "metadata": {},
   "source": [
    "### Visualization"
   ]
  },
  {
   "cell_type": "markdown",
   "metadata": {},
   "source": [
    "#### Word counts of question text"
   ]
  },
  {
   "cell_type": "markdown",
   "metadata": {},
   "source": [
    "Words counts of question text range in [0, 30]"
   ]
  },
  {
   "cell_type": "code",
   "execution_count": 139,
   "metadata": {
    "ExecuteTime": {
     "end_time": "2019-12-30T16:56:16.618752Z",
     "start_time": "2019-12-30T16:56:16.305369Z"
    }
   },
   "outputs": [
    {
     "data": {
      "text/plain": [
       "<matplotlib.legend.Legend at 0x7fd028240cd0>"
      ]
     },
     "execution_count": 139,
     "metadata": {},
     "output_type": "execute_result"
    },
    {
     "data": {
      "image/png": "[encoded data removed]",
      "text/plain": [
       "<Figure size 921.6x633.6 with 1 Axes>"
      ]
     },
     "metadata": {},
     "output_type": "display_data"
    }
   ],
   "source": [
    "plt.hist(q_lens_train, density=True, bins=8, alpha=0.5, color='c', label='train')\n",
    "plt.hist(q_lens_test, density=True, bins=8, alpha=0.5, color='orange', label='test')\n",
    "plt.xlabel('question length')\n",
    "plt.ylabel('sample proportion')\n",
    "plt.legend()"
   ]
  },
  {
   "cell_type": "markdown",
   "metadata": {},
   "source": [
    "#### Word counts of document text"
   ]
  },
  {
   "cell_type": "markdown",
   "metadata": {
    "ExecuteTime": {
     "end_time": "2019-11-01T08:53:31.874653Z",
     "start_time": "2019-11-01T08:53:31.871020Z"
    }
   },
   "source": [
    "Words counts of d document text range in [0, 120000]"
   ]
  },
  {
   "cell_type": "code",
   "execution_count": 174,
   "metadata": {
    "ExecuteTime": {
     "end_time": "2019-11-01T08:49:16.751233Z",
     "start_time": "2019-11-01T08:49:16.243485Z"
    }
   },
   "outputs": [
    {
     "data": {
      "text/plain": [
       "<matplotlib.legend.Legend at 0x7f504c6caf90>"
      ]
     },
     "execution_count": 174,
     "metadata": {},
     "output_type": "execute_result"
    },
    {
     "data": {
      "image/png": "[encoded data removed]",
      "text/plain": [
       "<Figure size 921.6x633.6 with 1 Axes>"
      ]
     },
     "metadata": {},
     "output_type": "display_data"
    }
   ],
   "source": [
    "plt.hist(d_lens_train, density=True, bins=64, alpha=0.5, color='c', label='train')\n",
    "plt.hist(d_lens_test, density=True, bins=64, alpha=0.5, color='orange', label='test')\n",
    "plt.xlabel('document length')\n",
    "plt.ylabel('sample proportion')\n",
    "plt.legend()"
   ]
  },
  {
   "cell_type": "markdown",
   "metadata": {},
   "source": [
    "#### Word counts of short answers text\n",
    "Words counts of short answers text is long-tail distribution, range in [1, 250]"
   ]
  },
  {
   "cell_type": "code",
   "execution_count": 110,
   "metadata": {
    "ExecuteTime": {
     "end_time": "2019-12-30T16:06:07.341419Z",
     "start_time": "2019-12-30T16:06:07.036782Z"
    }
   },
   "outputs": [
    {
     "name": "stdout",
     "output_type": "stream",
     "text": [
      "count    130233.000000\n",
      "mean          4.096942\n",
      "std           5.972028\n",
      "min           1.000000\n",
      "25%           2.000000\n",
      "50%           2.000000\n",
      "75%           4.000000\n",
      "max         250.000000\n",
      "dtype: float64\n"
     ]
    },
    {
     "data": {
      "text/plain": [
       "<matplotlib.axes._subplots.AxesSubplot at 0x7fd024638d90>"
      ]
     },
     "execution_count": 110,
     "metadata": {},
     "output_type": "execute_result"
    },
    {
     "data": {
      "image/png": "[encoded data removed]",
      "text/plain": [
       "<Figure size 921.6x633.6 with 1 Axes>"
      ]
     },
     "metadata": {},
     "output_type": "display_data"
    }
   ],
   "source": [
    "series_short = pd.Series(short_answer_lens_train)\n",
    "print(series_short.describe())\n",
    "series_short.value_counts(normalize=True).plot(kind='line', title=\"Normalized distribution of short answer length\")"
   ]
  },
  {
   "cell_type": "markdown",
   "metadata": {},
   "source": [
    "#### Word counts of long answers text\n",
    "Words counts of long answers text is long-tail distribution, range in [5, 123548]"
   ]
  },
  {
   "cell_type": "code",
   "execution_count": 143,
   "metadata": {
    "ExecuteTime": {
     "end_time": "2019-12-30T16:59:10.868724Z",
     "start_time": "2019-12-30T16:59:10.552693Z"
    }
   },
   "outputs": [
    {
     "name": "stdout",
     "output_type": "stream",
     "text": [
      "count    152148.000000\n",
      "mean        384.289849\n",
      "std        1496.184997\n",
      "min           5.000000\n",
      "25%          75.000000\n",
      "50%         117.000000\n",
      "75%         192.000000\n",
      "max      123548.000000\n",
      "dtype: float64\n"
     ]
    },
    {
     "data": {
      "text/plain": [
       "<matplotlib.axes._subplots.AxesSubplot at 0x7fd01f12cf10>"
      ]
     },
     "execution_count": 143,
     "metadata": {},
     "output_type": "execute_result"
    },
    {
     "data": {
      "image/png": "[encoded data removed]",
      "text/plain": [
       "<Figure size 921.6x633.6 with 1 Axes>"
      ]
     },
     "metadata": {},
     "output_type": "display_data"
    }
   ],
   "source": [
    "series_long = pd.Series(long_answer_lens_train)\n",
    "print(series_long.describe())\n",
    "series_long.value_counts(normalize=True).plot(kind='line', title=\"Normalized distribution of long answer length\")"
   ]
  },
  {
   "cell_type": "markdown",
   "metadata": {
    "ExecuteTime": {
     "end_time": "2019-12-19T14:23:27.478702Z",
     "start_time": "2019-12-19T14:23:27.474561Z"
    }
   },
   "source": [
    "# Feature Visualiztion"
   ]
  },
  {
   "cell_type": "markdown",
   "metadata": {
    "ExecuteTime": {
     "end_time": "2019-12-19T14:31:37.012837Z",
     "start_time": "2019-12-19T06:29:10.098Z"
    }
   },
   "source": [
    "## Answer type labels"
   ]
  },
  {
   "cell_type": "code",
   "execution_count": 1,
   "metadata": {
    "ExecuteTime": {
     "end_time": "2019-12-19T14:27:00.348145Z",
     "start_time": "2019-12-19T14:26:58.734925Z"
    }
   },
   "outputs": [],
   "source": [
    "import tensorflow as tf"
   ]
  },
  {
   "cell_type": "code",
   "execution_count": 2,
   "metadata": {
    "ExecuteTime": {
     "end_time": "2019-12-19T14:27:02.888740Z",
     "start_time": "2019-12-19T14:27:02.834122Z"
    }
   },
   "outputs": [],
   "source": [
    "raw_dataset = tf.data.TFRecordDataset(\"../input/bertjointbaseline/nq-train.tfrecords-00000-of-00001\")"
   ]
  },
  {
   "cell_type": "code",
   "execution_count": 7,
   "metadata": {
    "ExecuteTime": {
     "end_time": "2019-12-19T14:34:00.157813Z",
     "start_time": "2019-12-19T14:32:34.717837Z"
    }
   },
   "outputs": [
    {
     "name": "stderr",
     "output_type": "stream",
     "text": [
      "Parsing tfrecod: 494670it [01:25, 5790.53it/s]\n"
     ]
    }
   ],
   "source": [
    "all_answer_types = []\n",
    "for raw_record in tqdm(raw_dataset, desc=\"Parsing tfrecod\"):\n",
    "    f = tf.train.Example.FromString(raw_record.numpy())\n",
    "    all_answer_types.append(f.features.feature[\"answer_types\"].int64_list.value)"
   ]
  },
  {
   "cell_type": "code",
   "execution_count": 17,
   "metadata": {
    "ExecuteTime": {
     "end_time": "2019-12-19T14:39:39.819463Z",
     "start_time": "2019-12-19T14:39:39.816723Z"
    }
   },
   "outputs": [],
   "source": [
    "id2label = [\"unk\", \"yes\", \"no\", \"short\", \"long\"]"
   ]
  },
  {
   "cell_type": "code",
   "execution_count": 19,
   "metadata": {
    "ExecuteTime": {
     "end_time": "2019-12-19T14:40:15.842371Z",
     "start_time": "2019-12-19T14:40:14.659429Z"
    }
   },
   "outputs": [],
   "source": [
    "s_at = pd.Series(all_answer_types).apply(lambda x: id2label[x[0]])"
   ]
  },
  {
   "cell_type": "code",
   "execution_count": 27,
   "metadata": {
    "ExecuteTime": {
     "end_time": "2019-12-19T14:43:21.048264Z",
     "start_time": "2019-12-19T14:43:20.888023Z"
    }
   },
   "outputs": [
    {
     "name": "stdout",
     "output_type": "stream",
     "text": [
      "short    0.507807\n",
      "unk      0.341116\n",
      "long     0.137655\n",
      "yes      0.008404\n",
      "no       0.005017\n",
      "dtype: float64\n"
     ]
    },
    {
     "name": "stderr",
     "output_type": "stream",
     "text": [
      "/users/liukanglong/.conda/envs/tf2/lib/python3.7/site-packages/ipykernel_launcher.py:3: FutureWarning: `Series.plot()` should not be called with positional arguments, only keyword arguments. The order of positional arguments will change in the future. Use `Series.plot(kind='bar')` instead of `Series.plot('bar',)`.\n",
      "  This is separate from the ipykernel package so we can avoid doing imports until\n"
     ]
    },
    {
     "data": {
      "text/plain": [
       "<matplotlib.axes._subplots.AxesSubplot at 0x7f63c3366c50>"
      ]
     },
     "execution_count": 27,
     "metadata": {},
     "output_type": "execute_result"
    },
    {
     "data": {
      "image/png": "[encoded data removed]",
      "text/plain": [
       "<Figure size 432x288 with 1 Axes>"
      ]
     },
     "metadata": {
      "needs_background": "light"
     },
     "output_type": "display_data"
    }
   ],
   "source": [
    "stats=s_at.value_counts(normalize=True)\n",
    "print(stats)\n",
    "stats.plot(\"bar\")"
   ]
  },
  {
   "cell_type": "code",
   "execution_count": null,
   "metadata": {},
   "outputs": [],
   "source": []
  }
 ],
 "metadata": {
  "kernelspec": {
   "display_name": "Python [conda env:.conda-tf2]",
   "language": "python",
   "name": "conda-env-.conda-tf2-py"
  },
  "language_info": {
   "codemirror_mode": {
    "name": "ipython",
    "version": 3
   },
   "file_extension": ".py",
   "mimetype": "text/x-python",
   "name": "python",
   "nbconvert_exporter": "python",
   "pygments_lexer": "ipython3",
   "version": "3.7.5"
  },
  "toc": {
   "base_numbering": 1,
   "nav_menu": {
    "height": "209px",
    "width": "413px"
   },
   "number_sections": true,
   "sideBar": true,
   "skip_h1_title": false,
   "title_cell": "Table of Contents",
   "title_sidebar": "Contents",
   "toc_cell": false,
   "toc_position": {
    "height": "357px",
    "left": "158px",
    "top": "141.133px",
    "width": "330.365px"
   },
   "toc_section_display": true,
   "toc_window_display": true
  }
 },
 "nbformat": 4,
 "nbformat_minor": 1
}
